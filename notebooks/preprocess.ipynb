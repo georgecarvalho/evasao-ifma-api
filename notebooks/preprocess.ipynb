{
  "nbformat": 4,
  "nbformat_minor": 0,
  "metadata": {
    "colab": {
      "name": "Projeto_DS_evasão_IFMA_2021_26-07-2021.ipynb",
      "provenance": [],
      "collapsed_sections": []
    },
    "kernelspec": {
      "display_name": "Python 3",
      "name": "python3"
    }
  },
  "cells": [
    {
      "cell_type": "markdown",
      "metadata": {
        "id": "SZ5cYAsuuepG"
      },
      "source": [
        "## Informações Gerais"
      ]
    },
    {
      "cell_type": "markdown",
      "metadata": {
        "id": "K3gISf2XunCZ"
      },
      "source": [
        "Notebook produzido no contexto do projeto de pesquisa Análise de Dados Acadêmicos para estudo da Evasão Escolar, conduzido pelo Campus Viana em parceria com o Campus Monte Castelo, de 2020 a 2021. "
      ]
    },
    {
      "cell_type": "markdown",
      "metadata": {
        "id": "dNv5MAmJu5Id"
      },
      "source": [
        "- Bolsista responsável: Arthur Mota França (MTC)\n",
        "- Orientador: Prof. Josenildo Costa da Silva (MTC)\n",
        "- Coordenador do Projeto: Prof. Francisco Silva (VIA)"
      ]
    },
    {
      "cell_type": "markdown",
      "metadata": {
        "id": "jUVCHvfdtH9V"
      },
      "source": [
        "# Instalações"
      ]
    },
    {
      "cell_type": "code",
      "metadata": {
        "id": "zCWlB8_PcxIF",
        "colab": {
          "base_uri": "https://localhost:8080/"
        },
        "outputId": "067fc416-f051-4e8d-dcb9-38d9c58b8273"
      },
      "source": [
        "#!pip install -U pandas-profiling\n",
        "!pip install category_encoders"
      ],
      "execution_count": null,
      "outputs": [
        {
          "output_type": "stream",
          "text": [
            "Collecting category_encoders\n",
            "  Downloading category_encoders-2.2.2-py2.py3-none-any.whl (80 kB)\n",
            "\u001b[?25l\r\u001b[K     |████                            | 10 kB 21.4 MB/s eta 0:00:01\r\u001b[K     |████████▏                       | 20 kB 27.4 MB/s eta 0:00:01\r\u001b[K     |████████████▏                   | 30 kB 21.1 MB/s eta 0:00:01\r\u001b[K     |████████████████▎               | 40 kB 16.4 MB/s eta 0:00:01\r\u001b[K     |████████████████████▎           | 51 kB 5.7 MB/s eta 0:00:01\r\u001b[K     |████████████████████████▍       | 61 kB 6.1 MB/s eta 0:00:01\r\u001b[K     |████████████████████████████▍   | 71 kB 6.5 MB/s eta 0:00:01\r\u001b[K     |████████████████████████████████| 80 kB 3.7 MB/s \n",
            "\u001b[?25hRequirement already satisfied: numpy>=1.14.0 in /usr/local/lib/python3.7/dist-packages (from category_encoders) (1.19.5)\n",
            "Requirement already satisfied: scipy>=1.0.0 in /usr/local/lib/python3.7/dist-packages (from category_encoders) (1.4.1)\n",
            "Requirement already satisfied: pandas>=0.21.1 in /usr/local/lib/python3.7/dist-packages (from category_encoders) (1.1.5)\n",
            "Requirement already satisfied: patsy>=0.5.1 in /usr/local/lib/python3.7/dist-packages (from category_encoders) (0.5.1)\n",
            "Requirement already satisfied: statsmodels>=0.9.0 in /usr/local/lib/python3.7/dist-packages (from category_encoders) (0.10.2)\n",
            "Requirement already satisfied: scikit-learn>=0.20.0 in /usr/local/lib/python3.7/dist-packages (from category_encoders) (0.22.2.post1)\n",
            "Requirement already satisfied: pytz>=2017.2 in /usr/local/lib/python3.7/dist-packages (from pandas>=0.21.1->category_encoders) (2018.9)\n",
            "Requirement already satisfied: python-dateutil>=2.7.3 in /usr/local/lib/python3.7/dist-packages (from pandas>=0.21.1->category_encoders) (2.8.1)\n",
            "Requirement already satisfied: six in /usr/local/lib/python3.7/dist-packages (from patsy>=0.5.1->category_encoders) (1.15.0)\n",
            "Requirement already satisfied: joblib>=0.11 in /usr/local/lib/python3.7/dist-packages (from scikit-learn>=0.20.0->category_encoders) (1.0.1)\n",
            "Installing collected packages: category-encoders\n",
            "Successfully installed category-encoders-2.2.2\n"
          ],
          "name": "stdout"
        }
      ]
    },
    {
      "cell_type": "markdown",
      "metadata": {
        "id": "a1o1tBEltL3r"
      },
      "source": [
        "# Importações"
      ]
    },
    {
      "cell_type": "code",
      "metadata": {
        "id": "bCMCLQmwGYD2",
        "colab": {
          "base_uri": "https://localhost:8080/"
        },
        "outputId": "ff3d1d91-9db7-4105-9ed8-3de5d7cb8d37"
      },
      "source": [
        "import numpy as np\n",
        "import pandas as pd\n",
        "import matplotlib.pyplot as plt\n",
        "import seaborn as sns\n",
        "import csv\n",
        "\n",
        "from pydrive.auth import GoogleAuth\n",
        "from pydrive.drive import GoogleDrive\n",
        "from google.colab import auth\n",
        "from oauth2client.client import GoogleCredentials\n",
        "from category_encoders import *\n",
        "\n",
        "from google.colab import drive\n",
        "from pandas_profiling import ProfileReport\n",
        "from sklearn.impute import SimpleImputer\n",
        "from sklearn.preprocessing import LabelEncoder\n",
        "from sklearn.preprocessing import StandardScaler\n",
        "from sklearn.preprocessing import MinMaxScaler\n",
        "from sklearn.feature_selection import chi2\n",
        "from sklearn.model_selection import train_test_split\n",
        "from sklearn.naive_bayes import GaussianNB\n",
        "from sklearn.metrics import accuracy_score, confusion_matrix, classification_report\n",
        "from yellowbrick.classifier import ConfusionMatrix"
      ],
      "execution_count": null,
      "outputs": [
        {
          "output_type": "stream",
          "text": [
            "/usr/local/lib/python3.7/dist-packages/statsmodels/tools/_testing.py:19: FutureWarning: pandas.util.testing is deprecated. Use the functions in the public API at pandas.testing instead.\n",
            "  import pandas.util.testing as tm\n",
            "/usr/local/lib/python3.7/dist-packages/sklearn/utils/deprecation.py:144: FutureWarning: The sklearn.metrics.classification module is  deprecated in version 0.22 and will be removed in version 0.24. The corresponding classes / functions should instead be imported from sklearn.metrics. Anything that cannot be imported from sklearn.metrics is now part of the private API.\n",
            "  warnings.warn(message, FutureWarning)\n"
          ],
          "name": "stderr"
        }
      ]
    },
    {
      "cell_type": "markdown",
      "metadata": {
        "id": "-JDl-i0dHner"
      },
      "source": [
        "# Funções"
      ]
    },
    {
      "cell_type": "markdown",
      "metadata": {
        "id": "vcUeQN0Gt_2c"
      },
      "source": [
        "# Leitura dos Datasets"
      ]
    },
    {
      "cell_type": "code",
      "metadata": {
        "id": "OgynXgfzQndK"
      },
      "source": [
        "# autenticar usuário\n",
        "auth.authenticate_user()\n",
        "gauth = GoogleAuth()\n",
        "gauth.credentials = GoogleCredentials.get_application_default()\n",
        "drive = GoogleDrive(gauth)"
      ],
      "execution_count": null,
      "outputs": []
    },
    {
      "cell_type": "code",
      "metadata": {
        "id": "rbHRQSCrTXA2"
      },
      "source": [
        "downloaded = drive.CreateFile({'id':\"1hCvPIPWdcu3qXjmvEIbXZjqxVqSesbDl\"})   # replace the id with id of file you want to access\n",
        "downloaded.GetContentFile('matriculas.csv') \n",
        "dados_matr=pd.read_csv('matriculas.csv')\n",
        "\n",
        "\n",
        "downloaded = drive.CreateFile({'id':\"1psWRNGWGpz4K0Oeo1YcC833JI3TLcqKc\"})   # replace the id with id of file you want to access\n",
        "downloaded.GetContentFile('historico.csv') \n",
        "dados_hist=pd.read_csv('historico.csv')"
      ],
      "execution_count": null,
      "outputs": []
    },
    {
      "cell_type": "markdown",
      "metadata": {
        "id": "aEirhk7PIHJW"
      },
      "source": [
        "# Pré-Processamento"
      ]
    },
    {
      "cell_type": "markdown",
      "metadata": {
        "id": "umm9Bc4f2zXm"
      },
      "source": [
        "Padronização dos nomes para minusculas"
      ]
    },
    {
      "cell_type": "code",
      "metadata": {
        "id": "686RcTz78NaE"
      },
      "source": [
        "#padronização dos nomes das tabelas para minusculas, para facilitar a manipulaçáo\n",
        "dados_hist.columns=dados_hist.columns.str.lower()\n",
        "dados_matr.columns=dados_matr.columns.str.lower()"
      ],
      "execution_count": null,
      "outputs": []
    },
    {
      "cell_type": "markdown",
      "metadata": {
        "id": "K7q1oOvR256h"
      },
      "source": [
        "Geração de relatorios dos nossos datasets usando Profile Report"
      ]
    },
    {
      "cell_type": "code",
      "metadata": {
        "id": "zMWhTQMVe_OC"
      },
      "source": [
        "# profile = ProfileReport(dados_matr, title='Profiling Dados de Matricula',html={'style':{'full_width':True}})\n",
        "# profile.to_notebook_iframe()"
      ],
      "execution_count": null,
      "outputs": []
    },
    {
      "cell_type": "code",
      "metadata": {
        "id": "RckNG33gdOcd"
      },
      "source": [
        "# profile = ProfileReport(dados_hist, title='Profiling Dados Historicos',html={'style':{'full_width':True}})\n",
        "# profile.to_notebook_iframe()"
      ],
      "execution_count": null,
      "outputs": []
    },
    {
      "cell_type": "code",
      "metadata": {
        "id": "F8HL23Pr2wRw",
        "colab": {
          "base_uri": "https://localhost:8080/",
          "height": 320
        },
        "outputId": "1a7797b4-e8e4-4f45-86e8-a4555ff6c5af"
      },
      "source": [
        "dados_matr.describe()"
      ],
      "execution_count": null,
      "outputs": [
        {
          "output_type": "execute_result",
          "data": {
            "text/html": [
              "<div>\n",
              "<style scoped>\n",
              "    .dataframe tbody tr th:only-of-type {\n",
              "        vertical-align: middle;\n",
              "    }\n",
              "\n",
              "    .dataframe tbody tr th {\n",
              "        vertical-align: top;\n",
              "    }\n",
              "\n",
              "    .dataframe thead th {\n",
              "        text-align: right;\n",
              "    }\n",
              "</style>\n",
              "<table border=\"1\" class=\"dataframe\">\n",
              "  <thead>\n",
              "    <tr style=\"text-align: right;\">\n",
              "      <th></th>\n",
              "      <th>alunoid</th>\n",
              "      <th>anoingresso</th>\n",
              "      <th>periodoingresso</th>\n",
              "      <th>rendabruta</th>\n",
              "      <th>ira</th>\n",
              "      <th>idade</th>\n",
              "      <th>quantidade_computadores</th>\n",
              "      <th>quantidade_notebooks</th>\n",
              "      <th>qtd_filhos</th>\n",
              "    </tr>\n",
              "  </thead>\n",
              "  <tbody>\n",
              "    <tr>\n",
              "      <th>count</th>\n",
              "      <td>34521.000000</td>\n",
              "      <td>34521.000000</td>\n",
              "      <td>34521.000000</td>\n",
              "      <td>3.452100e+04</td>\n",
              "      <td>34521.000000</td>\n",
              "      <td>34521.000000</td>\n",
              "      <td>31235.000000</td>\n",
              "      <td>31805.000000</td>\n",
              "      <td>34521.000000</td>\n",
              "    </tr>\n",
              "    <tr>\n",
              "      <th>mean</th>\n",
              "      <td>95245.318328</td>\n",
              "      <td>2017.882767</td>\n",
              "      <td>1.125576</td>\n",
              "      <td>3.792680e+05</td>\n",
              "      <td>5.555186</td>\n",
              "      <td>21.742418</td>\n",
              "      <td>0.160205</td>\n",
              "      <td>0.347650</td>\n",
              "      <td>0.238869</td>\n",
              "    </tr>\n",
              "    <tr>\n",
              "      <th>std</th>\n",
              "      <td>22833.352063</td>\n",
              "      <td>1.807386</td>\n",
              "      <td>0.335286</td>\n",
              "      <td>3.806605e+07</td>\n",
              "      <td>3.575950</td>\n",
              "      <td>44.287785</td>\n",
              "      <td>0.760202</td>\n",
              "      <td>0.554507</td>\n",
              "      <td>0.747113</td>\n",
              "    </tr>\n",
              "    <tr>\n",
              "      <th>min</th>\n",
              "      <td>5.000000</td>\n",
              "      <td>1998.000000</td>\n",
              "      <td>1.000000</td>\n",
              "      <td>-9.630000e+02</td>\n",
              "      <td>0.000000</td>\n",
              "      <td>-7979.000000</td>\n",
              "      <td>0.000000</td>\n",
              "      <td>0.000000</td>\n",
              "      <td>0.000000</td>\n",
              "    </tr>\n",
              "    <tr>\n",
              "      <th>25%</th>\n",
              "      <td>78940.000000</td>\n",
              "      <td>2017.000000</td>\n",
              "      <td>1.000000</td>\n",
              "      <td>2.000000e+02</td>\n",
              "      <td>1.270000</td>\n",
              "      <td>18.000000</td>\n",
              "      <td>0.000000</td>\n",
              "      <td>0.000000</td>\n",
              "      <td>0.000000</td>\n",
              "    </tr>\n",
              "    <tr>\n",
              "      <th>50%</th>\n",
              "      <td>97158.000000</td>\n",
              "      <td>2018.000000</td>\n",
              "      <td>1.000000</td>\n",
              "      <td>9.440000e+02</td>\n",
              "      <td>7.370000</td>\n",
              "      <td>20.000000</td>\n",
              "      <td>0.000000</td>\n",
              "      <td>0.000000</td>\n",
              "      <td>0.000000</td>\n",
              "    </tr>\n",
              "    <tr>\n",
              "      <th>75%</th>\n",
              "      <td>112922.000000</td>\n",
              "      <td>2019.000000</td>\n",
              "      <td>1.000000</td>\n",
              "      <td>1.498000e+03</td>\n",
              "      <td>8.190000</td>\n",
              "      <td>24.000000</td>\n",
              "      <td>0.000000</td>\n",
              "      <td>1.000000</td>\n",
              "      <td>0.000000</td>\n",
              "    </tr>\n",
              "    <tr>\n",
              "      <th>max</th>\n",
              "      <td>134472.000000</td>\n",
              "      <td>2021.000000</td>\n",
              "      <td>11.000000</td>\n",
              "      <td>4.960941e+09</td>\n",
              "      <td>79.000000</td>\n",
              "      <td>76.000000</td>\n",
              "      <td>100.000000</td>\n",
              "      <td>16.000000</td>\n",
              "      <td>13.000000</td>\n",
              "    </tr>\n",
              "  </tbody>\n",
              "</table>\n",
              "</div>"
            ],
            "text/plain": [
              "             alunoid   anoingresso  ...  quantidade_notebooks    qtd_filhos\n",
              "count   34521.000000  34521.000000  ...          31805.000000  34521.000000\n",
              "mean    95245.318328   2017.882767  ...              0.347650      0.238869\n",
              "std     22833.352063      1.807386  ...              0.554507      0.747113\n",
              "min         5.000000   1998.000000  ...              0.000000      0.000000\n",
              "25%     78940.000000   2017.000000  ...              0.000000      0.000000\n",
              "50%     97158.000000   2018.000000  ...              0.000000      0.000000\n",
              "75%    112922.000000   2019.000000  ...              1.000000      0.000000\n",
              "max    134472.000000   2021.000000  ...             16.000000     13.000000\n",
              "\n",
              "[8 rows x 9 columns]"
            ]
          },
          "metadata": {
            "tags": []
          },
          "execution_count": 6
        }
      ]
    },
    {
      "cell_type": "markdown",
      "metadata": {
        "id": "CZ-llDga3M8p"
      },
      "source": [
        "Manipulação de nosso dataset para tratar valores ausentes e inconsistentes"
      ]
    },
    {
      "cell_type": "code",
      "metadata": {
        "id": "VjBBGQ1Q4Q7z"
      },
      "source": [
        "#carga horaria negativa\n",
        "dados_hist.loc[dados_hist.percentual_carga_horaria_frequentada < 0,\"percentual_carga_horaria_frequentada\"]=0"
      ],
      "execution_count": null,
      "outputs": []
    },
    {
      "cell_type": "code",
      "metadata": {
        "id": "h4aHSOPB3aMs"
      },
      "source": [
        "#renda bruta negativa e muito alta, escolhemos limitar a 100k\n",
        "dados_matr.loc[dados_matr.rendabruta < 0,\"rendabruta\"]=9.756800e+02\n",
        "dados_matr.loc[dados_matr.rendabruta > 100000,\"rendabruta\"]=9.756800e+02"
      ],
      "execution_count": null,
      "outputs": []
    },
    {
      "cell_type": "code",
      "metadata": {
        "id": "_8gK7LLDz6qA"
      },
      "source": [
        "#valores muito baixos\n",
        "dados_matr.loc[dados_matr.idade < 14,\"idade\"]=18"
      ],
      "execution_count": null,
      "outputs": []
    },
    {
      "cell_type": "code",
      "metadata": {
        "id": "MntkO99Wf0Kn"
      },
      "source": [
        "#muitos valores nulos, substituidos por zero\n",
        "dados_matr.loc[dados_matr.quantidade_computadores.isnull(),\"quantidade_computadores\"]=0"
      ],
      "execution_count": null,
      "outputs": []
    },
    {
      "cell_type": "code",
      "metadata": {
        "id": "qQTJQC2Aggp7"
      },
      "source": [
        "#muitos valores nulos, substituidos por zero\n",
        "dados_matr.loc[dados_matr.quantidade_notebooks.isnull(),\"quantidade_notebooks\"]=0"
      ],
      "execution_count": null,
      "outputs": []
    },
    {
      "cell_type": "code",
      "metadata": {
        "id": "BXqNNiqcqJxO"
      },
      "source": [
        "#tinhamos valores nulos para media final de varios alunos, para resolver esse problema, resolvemos usar alguns imputadores de valores. \n",
        "#Foram criados tres novas colunas, usando estrategias diferentes para completar o dataset\n",
        "dados_hist[\"media_final_mean\"]=dados_hist[\"media_final_disciplina\"]\n",
        "dados_hist[\"media_final_median\"]=dados_hist[\"media_final_disciplina\"]\n",
        "dados_hist[\"media_final_frequency\"]=dados_hist[\"media_final_disciplina\"]\n",
        "imp = SimpleImputer(missing_values=np.nan, strategy='mean')\n",
        "dados_hist[\"media_final_mean\"] = imp.fit_transform(dados_hist[[\"media_final_mean\"]])#media\n",
        "imp = SimpleImputer(missing_values=np.nan, strategy='median')\n",
        "dados_hist[\"media_final_median\"] = imp.fit_transform(dados_hist[[\"media_final_median\"]])#mediana\n",
        "imp = SimpleImputer(missing_values=np.nan, strategy='most_frequent')\n",
        "dados_hist[\"media_final_frequency\"] = imp.fit_transform(dados_hist[[\"media_final_frequency\"]])#valor mais frequente"
      ],
      "execution_count": null,
      "outputs": []
    },
    {
      "cell_type": "markdown",
      "metadata": {
        "id": "r80K4xLS6hQi"
      },
      "source": [
        "Criando nosso dataset de trabalho, o dados_aluno"
      ]
    },
    {
      "cell_type": "code",
      "metadata": {
        "id": "6IR-L64X7Azg"
      },
      "source": [
        "col=[\"alunoid\"]\n",
        "dados_aluno=pd.DataFrame(columns=col)\n",
        "dados_aluno=dados_matr#ele espelha o dataset matricula\n",
        "\n",
        "dados_aluno[\"reprovacoes\"]=dados_hist.loc[(dados_hist.situacao==\"Reprovado\")].groupby(by=\"alunoid\")[\"situacao\"].count()#atributo criado, conta o numero de reprovações por nota\n",
        "dados_aluno[\"reprovacoes_por_falta\"]=dados_hist.loc[(dados_hist.situacao==\"Reprov. por Falta\")|(dados_hist.situacao==\"Reprovado por falta\")].groupby(by=\"alunoid\")[\"situacao\"].count()#atributo criado, conta o numero de reprovações por falta\n",
        "dados_aluno[\"percentual_carga_horaria_frequentada_mean\"]=dados_hist.groupby(by=\"alunoid\").percentual_carga_horaria_frequentada.mean()#atributo criado, calcula a media de percentual de carga horaria frequentada pelo aluno\n",
        "dados_aluno[\"carga_horaria_total\"]=dados_hist.groupby(by=\"alunoid\").carga_horaria.sum()#atributo criado, calcula a soma das cargas horarias frequentadas\n",
        "dados_aluno.loc[dados_aluno.carga_horaria_total.isnull(),\"carga_horaria_total\"]=0#iguala os valores nulos a zero\n",
        "dados_aluno.loc[dados_aluno.percentual_carga_horaria_frequentada_mean.isnull(),\"percentual_carga_horaria_frequentada_mean\"]=0#iguala os valores nulos a zero\n",
        "dados_aluno.loc[dados_aluno.reprovacoes.isnull(),\"reprovacoes\"]=0#iguala os valores nulos a zero\n",
        "dados_aluno.loc[dados_aluno.reprovacoes_por_falta.isnull(),\"reprovacoes_por_falta\"]=0#iguala os valores nulos a zero"
      ],
      "execution_count": null,
      "outputs": []
    },
    {
      "cell_type": "markdown",
      "metadata": {
        "id": "ZIwwl4eHDIe7"
      },
      "source": [
        "Padronização dos valores dos nossos atributos para minusculas"
      ]
    },
    {
      "cell_type": "code",
      "metadata": {
        "id": "cqWDeBwzKTmm"
      },
      "source": [
        "dados_aluno = dados_aluno.astype(str).apply(lambda x: x.str.lower())"
      ],
      "execution_count": null,
      "outputs": []
    },
    {
      "cell_type": "markdown",
      "metadata": {
        "id": "PQ5AzrxPD7Ht"
      },
      "source": [
        "Conversao do tipo de nossas colunas para numerico"
      ]
    },
    {
      "cell_type": "code",
      "metadata": {
        "id": "pDU7fsSxd6be"
      },
      "source": [
        "#esse comando tenta passar todos as colunas para numerico. Se ele encontra alguma coluna com string, não vai conseguir e então ele ignora essa coluna\n",
        "dados_aluno=dados_aluno.apply(pd.to_numeric, errors='ignore')"
      ],
      "execution_count": null,
      "outputs": []
    },
    {
      "cell_type": "markdown",
      "metadata": {
        "id": "18wuVeaYEgA4"
      },
      "source": [
        "Dropando colunas com dados irrelevantes ou com dificuldade muito elevada de imputação de valores"
      ]
    },
    {
      "cell_type": "code",
      "metadata": {
        "id": "L_johCSUJpAe",
        "colab": {
          "base_uri": "https://localhost:8080/",
          "height": 135
        },
        "outputId": "9c767b79-ce7b-4cbe-97d8-d517a27c3a31"
      },
      "source": [
        "dados_aluno=dados_aluno.drop(columns=[\"dataconclusao\",\"forma_acesso_seletivo\",\"razao_ausencia_educacional\",\"exclusivo_rede_publica\"])\n",
        "dados_aluno=dados_aluno.drop(dados_aluno.situacao==\"matriculado\")|(dados_aluno.situacao==\"intercâmbio\")|\n",
        "           (dados_aluno.situacao==\"matrícula vínculo institucional\")|(dados_aluno.situacao==\"transferido externo\")|\n",
        "           (dados_aluno.situacao==\"transferido interno\")]=0"
      ],
      "execution_count": null,
      "outputs": [
        {
          "output_type": "error",
          "ename": "SyntaxError",
          "evalue": "ignored",
          "traceback": [
            "\u001b[0;36m  File \u001b[0;32m\"<ipython-input-15-0bdeaade282b>\"\u001b[0;36m, line \u001b[0;32m2\u001b[0m\n\u001b[0;31m    dados_aluno=dados_aluno.drop(dados_aluno.situacao==\"matriculado\")|(dados_aluno.situacao==\"intercâmbio\")|\u001b[0m\n\u001b[0m                                                                                                            ^\u001b[0m\n\u001b[0;31mSyntaxError\u001b[0m\u001b[0;31m:\u001b[0m invalid syntax\n"
          ]
        }
      ]
    },
    {
      "cell_type": "markdown",
      "metadata": {
        "id": "bkPQJFSaQoIl"
      },
      "source": [
        "Valores para nossa classe objetivo"
      ]
    },
    {
      "cell_type": "code",
      "metadata": {
        "id": "1S_QihlMBo8n",
        "colab": {
          "base_uri": "https://localhost:8080/"
        },
        "outputId": "d48dd285-65f3-4421-a449-213a9cec1cf0"
      },
      "source": [
        "dados_aluno.situacao.loc[(dados_aluno.situacao==\"aguardando ENADE\")|(dados_aluno.situacao==\"aguardando enade\")|(dados_aluno.situacao==\"aguardando colação de grau\")|\n",
        "           (dados_aluno.situacao==\"estagiario (concludente)\")|(dados_aluno.situacao==\"concludente\")|(dados_aluno.situacao==\"formado\")|\n",
        "           (dados_aluno.situacao==\"concluído\")|(dados_aluno.situacao==\"matriculado\")|(dados_aluno.situacao==\"intercâmbio\")|\n",
        "           (dados_aluno.situacao==\"matrícula vínculo institucional\")|(dados_aluno.situacao==\"transferido externo\")|\n",
        "           (dados_aluno.situacao==\"transferido interno\")]=0\n",
        "dados_aluno.situacao.loc[(dados_aluno.situacao==\"falecido\")|(dados_aluno.situacao==\"cancelamento por desligamento\")|(dados_aluno.situacao==\"afastado\")|\n",
        "           (dados_aluno.situacao==\"cancelamento por duplicidade\")|(dados_aluno.situacao==\"jubilado\")|(dados_aluno.situacao==\"trancada\")|\n",
        "           (dados_aluno.situacao==\"cancelamento compulsório\")|(dados_aluno.situacao==\"trancado voluntariamente\")|(dados_aluno.situacao==\"cancelado\")|\n",
        "           (dados_aluno.situacao==\"evasão\")]=1"
      ],
      "execution_count": null,
      "outputs": [
        {
          "output_type": "stream",
          "text": [
            "/usr/local/lib/python3.7/dist-packages/pandas/core/indexing.py:670: SettingWithCopyWarning: \n",
            "A value is trying to be set on a copy of a slice from a DataFrame\n",
            "\n",
            "See the caveats in the documentation: https://pandas.pydata.org/pandas-docs/stable/user_guide/indexing.html#returning-a-view-versus-a-copy\n",
            "  iloc._setitem_with_indexer(indexer, value)\n"
          ],
          "name": "stderr"
        }
      ]
    },
    {
      "cell_type": "markdown",
      "metadata": {
        "id": "JPfCealWQ11P"
      },
      "source": [
        "Transformação de nossa classe alvo para boleano"
      ]
    },
    {
      "cell_type": "code",
      "metadata": {
        "id": "58xsbtnbvYIz"
      },
      "source": [
        "# Por quê?\n",
        "dados_aluno[\"situacao\"]=dados_aluno[\"situacao\"].astype(bool)"
      ],
      "execution_count": null,
      "outputs": []
    },
    {
      "cell_type": "code",
      "metadata": {
        "id": "x3dtus3F5X3I"
      },
      "source": [
        "# em nossa coluna raca, tinhamos o mesmo valor escrito de formas diferentes\n",
        "dados_aluno.loc[dados_aluno.raca == \"indígena\",\"raca\"]=\"indigena\""
      ],
      "execution_count": null,
      "outputs": []
    },
    {
      "cell_type": "code",
      "metadata": {
        "id": "B-Gm1enQxEts"
      },
      "source": [
        "dados_aluno=dados_aluno.drop(columns=\"alunoid\")"
      ],
      "execution_count": null,
      "outputs": []
    },
    {
      "cell_type": "markdown",
      "metadata": {
        "id": "vkE5slDBRRT9"
      },
      "source": [
        "Reindexação de nosso dataset, para que a classe alvo seja a ultima a aparecer"
      ]
    },
    {
      "cell_type": "code",
      "metadata": {
        "id": "YSe9R-cFxOsv"
      },
      "source": [
        "dados_aluno = dados_aluno.reindex(columns=['campus','curso','anoingresso','periodoingresso',\n",
        " 'rendabruta','ira','modalidade','genero','raca','idade','idioma','ficou_tempo_sem_estudar',\n",
        " 'quantidade_computadores','companhia_domiciliar','mae_nivel_escolaridade','pai_nivel_escolaridade',\n",
        " 'quantidade_notebooks','estado_civil','qtd_filhos','tipo_area_residencial','trabalha','reprovacoes',\n",
        " 'reprovacoes_por_falta','percentual_carga_horaria_frequentada_mean','carga_horaria_total','situacao'])"
      ],
      "execution_count": null,
      "outputs": []
    },
    {
      "cell_type": "code",
      "metadata": {
        "colab": {
          "base_uri": "https://localhost:8080/",
          "height": 861
        },
        "id": "vHXjSmnKHTG5",
        "outputId": "0890123a-5a21-4990-d56f-59c345aef2a3"
      },
      "source": [
        "dados_aluno.select_dtypes(include=\"object\")"
      ],
      "execution_count": null,
      "outputs": [
        {
          "output_type": "execute_result",
          "data": {
            "text/html": [
              "<div>\n",
              "<style scoped>\n",
              "    .dataframe tbody tr th:only-of-type {\n",
              "        vertical-align: middle;\n",
              "    }\n",
              "\n",
              "    .dataframe tbody tr th {\n",
              "        vertical-align: top;\n",
              "    }\n",
              "\n",
              "    .dataframe thead th {\n",
              "        text-align: right;\n",
              "    }\n",
              "</style>\n",
              "<table border=\"1\" class=\"dataframe\">\n",
              "  <thead>\n",
              "    <tr style=\"text-align: right;\">\n",
              "      <th></th>\n",
              "      <th>campus</th>\n",
              "      <th>curso</th>\n",
              "      <th>modalidade</th>\n",
              "      <th>genero</th>\n",
              "      <th>raca</th>\n",
              "      <th>idioma</th>\n",
              "      <th>ficou_tempo_sem_estudar</th>\n",
              "      <th>companhia_domiciliar</th>\n",
              "      <th>mae_nivel_escolaridade</th>\n",
              "      <th>pai_nivel_escolaridade</th>\n",
              "      <th>estado_civil</th>\n",
              "      <th>tipo_area_residencial</th>\n",
              "      <th>trabalha</th>\n",
              "    </tr>\n",
              "  </thead>\n",
              "  <tbody>\n",
              "    <tr>\n",
              "      <th>0</th>\n",
              "      <td>mtc</td>\n",
              "      <td>licenciatura em biologia</td>\n",
              "      <td>licenciatura</td>\n",
              "      <td>m</td>\n",
              "      <td>preta</td>\n",
              "      <td>false</td>\n",
              "      <td>false</td>\n",
              "      <td>pai</td>\n",
              "      <td>alfabetizado</td>\n",
              "      <td>alfabetizado</td>\n",
              "      <td>solteiro(a)</td>\n",
              "      <td>rural</td>\n",
              "      <td>serviço público</td>\n",
              "    </tr>\n",
              "    <tr>\n",
              "      <th>1</th>\n",
              "      <td>mtc</td>\n",
              "      <td>técnico em eletromecânica tc: nárea: controle ...</td>\n",
              "      <td>concomitante</td>\n",
              "      <td>m</td>\n",
              "      <td>parda</td>\n",
              "      <td>true</td>\n",
              "      <td>false</td>\n",
              "      <td>tios</td>\n",
              "      <td>ensino médio completo</td>\n",
              "      <td>ensino médio completo</td>\n",
              "      <td>solteiro(a)</td>\n",
              "      <td>urbano</td>\n",
              "      <td>nunca trabalhou</td>\n",
              "    </tr>\n",
              "    <tr>\n",
              "      <th>2</th>\n",
              "      <td>mtc</td>\n",
              "      <td>técnico em eletrotécnica tc: t nárea: controle...</td>\n",
              "      <td>concomitante</td>\n",
              "      <td>m</td>\n",
              "      <td>parda</td>\n",
              "      <td>false</td>\n",
              "      <td>false</td>\n",
              "      <td>mãe</td>\n",
              "      <td>ensino médio completo</td>\n",
              "      <td>ensino médio completo</td>\n",
              "      <td>solteiro(a)</td>\n",
              "      <td>rural</td>\n",
              "      <td>nunca trabalhou</td>\n",
              "    </tr>\n",
              "    <tr>\n",
              "      <th>3</th>\n",
              "      <td>mar</td>\n",
              "      <td>curso técnico em informática ead</td>\n",
              "      <td>concomitante</td>\n",
              "      <td>m</td>\n",
              "      <td>parda</td>\n",
              "      <td>true</td>\n",
              "      <td>false</td>\n",
              "      <td>tios</td>\n",
              "      <td>ensino médio completo</td>\n",
              "      <td>ensino médio completo</td>\n",
              "      <td>solteiro(a)</td>\n",
              "      <td>urbano</td>\n",
              "      <td>nunca trabalhou</td>\n",
              "    </tr>\n",
              "    <tr>\n",
              "      <th>4</th>\n",
              "      <td>tmn</td>\n",
              "      <td>timon - técnico em eletromecânica integrado</td>\n",
              "      <td>integrado</td>\n",
              "      <td>m</td>\n",
              "      <td>parda</td>\n",
              "      <td>true</td>\n",
              "      <td>false</td>\n",
              "      <td>pai</td>\n",
              "      <td>ensino superior incompleto</td>\n",
              "      <td>ensino médio incompleto</td>\n",
              "      <td>solteiro(a)</td>\n",
              "      <td>urbano</td>\n",
              "      <td>nunca trabalhou</td>\n",
              "    </tr>\n",
              "    <tr>\n",
              "      <th>...</th>\n",
              "      <td>...</td>\n",
              "      <td>...</td>\n",
              "      <td>...</td>\n",
              "      <td>...</td>\n",
              "      <td>...</td>\n",
              "      <td>...</td>\n",
              "      <td>...</td>\n",
              "      <td>...</td>\n",
              "      <td>...</td>\n",
              "      <td>...</td>\n",
              "      <td>...</td>\n",
              "      <td>...</td>\n",
              "      <td>...</td>\n",
              "    </tr>\n",
              "    <tr>\n",
              "      <th>34516</th>\n",
              "      <td>mar</td>\n",
              "      <td>técnico em agropecuária - ead</td>\n",
              "      <td>subsequente</td>\n",
              "      <td>m</td>\n",
              "      <td>parda</td>\n",
              "      <td>false</td>\n",
              "      <td>false</td>\n",
              "      <td>cônjuge</td>\n",
              "      <td>não estudou</td>\n",
              "      <td>não estudou</td>\n",
              "      <td>casado(a)</td>\n",
              "      <td>rural</td>\n",
              "      <td>trabalhador rural/agricultor</td>\n",
              "    </tr>\n",
              "    <tr>\n",
              "      <th>34517</th>\n",
              "      <td>pdu</td>\n",
              "      <td>técnico em administração</td>\n",
              "      <td>subsequente</td>\n",
              "      <td>m</td>\n",
              "      <td>branca</td>\n",
              "      <td>false</td>\n",
              "      <td>false</td>\n",
              "      <td>parentes</td>\n",
              "      <td>alfabetizado</td>\n",
              "      <td>alfabetizado</td>\n",
              "      <td>solteiro(a)</td>\n",
              "      <td>urbano</td>\n",
              "      <td>não está trabalhando</td>\n",
              "    </tr>\n",
              "    <tr>\n",
              "      <th>34518</th>\n",
              "      <td>cch</td>\n",
              "      <td>curso técnico em manutenção de máquinas indust...</td>\n",
              "      <td>integrado</td>\n",
              "      <td>f</td>\n",
              "      <td>parda</td>\n",
              "      <td>false</td>\n",
              "      <td>false</td>\n",
              "      <td>parentes</td>\n",
              "      <td>alfabetizado</td>\n",
              "      <td>ensino fundamental completo</td>\n",
              "      <td>solteiro(a)</td>\n",
              "      <td>urbano</td>\n",
              "      <td>beneficiário ou pensionista do inss</td>\n",
              "    </tr>\n",
              "    <tr>\n",
              "      <th>34519</th>\n",
              "      <td>cod</td>\n",
              "      <td>bacharelado em agronomia</td>\n",
              "      <td>bacharelado</td>\n",
              "      <td>m</td>\n",
              "      <td>preta</td>\n",
              "      <td>false</td>\n",
              "      <td>false</td>\n",
              "      <td>mãe</td>\n",
              "      <td>ensino médio incompleto</td>\n",
              "      <td>ensino médio incompleto</td>\n",
              "      <td>união estável</td>\n",
              "      <td>urbano</td>\n",
              "      <td>trabalho informal/bico</td>\n",
              "    </tr>\n",
              "    <tr>\n",
              "      <th>34520</th>\n",
              "      <td>cod</td>\n",
              "      <td>codó - técnico em meio ambiente integrado ao e...</td>\n",
              "      <td>integrado</td>\n",
              "      <td>m</td>\n",
              "      <td>branca</td>\n",
              "      <td>false</td>\n",
              "      <td>false</td>\n",
              "      <td>mãe</td>\n",
              "      <td>ensino médio completo</td>\n",
              "      <td>ensino médio completo</td>\n",
              "      <td>solteiro(a)</td>\n",
              "      <td>urbano</td>\n",
              "      <td>nunca trabalhou</td>\n",
              "    </tr>\n",
              "  </tbody>\n",
              "</table>\n",
              "<p>34521 rows × 13 columns</p>\n",
              "</div>"
            ],
            "text/plain": [
              "      campus  ...                             trabalha\n",
              "0        mtc  ...                      serviço público\n",
              "1        mtc  ...                      nunca trabalhou\n",
              "2        mtc  ...                      nunca trabalhou\n",
              "3        mar  ...                      nunca trabalhou\n",
              "4        tmn  ...                      nunca trabalhou\n",
              "...      ...  ...                                  ...\n",
              "34516    mar  ...         trabalhador rural/agricultor\n",
              "34517    pdu  ...                 não está trabalhando\n",
              "34518    cch  ...  beneficiário ou pensionista do inss\n",
              "34519    cod  ...               trabalho informal/bico\n",
              "34520    cod  ...                      nunca trabalhou\n",
              "\n",
              "[34521 rows x 13 columns]"
            ]
          },
          "metadata": {
            "tags": []
          },
          "execution_count": 21
        }
      ]
    },
    {
      "cell_type": "markdown",
      "metadata": {
        "id": "AToT9HKOaERj"
      },
      "source": [
        "Separação entre previsores e situacao"
      ]
    },
    {
      "cell_type": "code",
      "metadata": {
        "id": "iKAto6YPTw-N"
      },
      "source": [
        "#profile = ProfileReport(dados_aluno, title='Profiling Dados Aluno',html={'style':{'full_width':True}})\n",
        "#profile.to_notebook_iframe()"
      ],
      "execution_count": null,
      "outputs": []
    },
    {
      "cell_type": "code",
      "metadata": {
        "id": "G_5peSDvV60N"
      },
      "source": [
        "previsores=dados_aluno.iloc[:,0:25].values #as colunas que nos ajudarao a prever o comportamento do aluno \n",
        "situacao=dados_aluno.iloc[:,25].values #coluna alvo"
      ],
      "execution_count": null,
      "outputs": []
    },
    {
      "cell_type": "code",
      "metadata": {
        "id": "3KwjT7DiE_Ph"
      },
      "source": [
        "import pickle\n",
        "from sklearn.preprocessing import OneHotEncoder\n",
        "\n",
        "# Load data and save indices of columns\n",
        "df = dados_aluno\n",
        "features = df.drop('situacao', 1).columns\n",
        "pickle.dump(features, open('features.pickle', 'wb'))\n",
        "\n",
        "# Fit and save an OneHotEncoder\n",
        "columns_to_fit = ['campus', 'curso', 'anoingresso', 'periodoingresso', 'rendabruta','ira', 'modalidade', 'genero', 'idade', 'ficou_tempo_sem_estudar','companhia_domiciliar', 'estado_civil', 'trabalha']\n",
        "enc = OrdinalEncoder().fit(df.loc[:, columns_to_fit])\n",
        "pickle.dump(enc, open('encoder.pickle', 'wb'))\n",
        "\n",
        "# Transform variables, merge with existing df and keep column names\n",
        "column_names = columns_to_fit\n",
        "encoded_variables = pd.DataFrame(enc.transform(df.loc[:, columns_to_fit]), columns=column_names)\n",
        "df = df.drop(columns_to_fit, 1)\n",
        "df = pd.concat([df, encoded_variables], axis=1)\n",
        "\n",
        "\n",
        "    \n",
        "# Fit and save model\n",
        "# X, y = df.drop('situacao', 1), df.loc[:, 'situacao']\n",
        "# clf = GaussianNB().fit(X, y)\n",
        "# pickle.dump(clf, open('model.pickle', 'wb'))"
      ],
      "execution_count": null,
      "outputs": []
    },
    {
      "cell_type": "markdown",
      "metadata": {
        "id": "UvlrqKbcRvNR"
      },
      "source": [
        "Tratamento de valores categóricos, usando o labelencoder"
      ]
    },
    {
      "cell_type": "code",
      "metadata": {
        "id": "1wUTHFB8bgXQ"
      },
      "source": [
        "# label_encoder_campus = LabelEncoder()\n",
        "# label_encoder_curso = LabelEncoder()\n",
        "# label_encoder_modalidade = LabelEncoder()\n",
        "# label_encoder_genero = LabelEncoder()\n",
        "# label_encoder_raca = LabelEncoder()\n",
        "# label_encoder_idioma = LabelEncoder()\n",
        "# label_encoder_ftse = LabelEncoder()\n",
        "# label_encoder_cia_domiciliar = LabelEncoder()\n",
        "# label_encoder_nivel_pai = LabelEncoder()\n",
        "# label_encoder_nivel_mae = LabelEncoder()\n",
        "# label_encoder_estado_civil = LabelEncoder()\n",
        "# label_encoder_tipo_residencia = LabelEncoder()\n",
        "# label_encoder_trabalha = LabelEncoder()"
      ],
      "execution_count": null,
      "outputs": []
    },
    {
      "cell_type": "code",
      "metadata": {
        "id": "gbtyd15HIKNw"
      },
      "source": [
        "# previsores[:,0] = label_encoder_campus.fit_transform(previsores[:,0])\n",
        "# previsores[:,1] = label_encoder_curso.fit_transform(previsores[:,1])\n",
        "# previsores[:,6] = label_encoder_modalidade.fit_transform(previsores[:,6])\n",
        "# previsores[:,7] = label_encoder_genero.fit_transform(previsores[:,7])\n",
        "# previsores[:,8] = label_encoder_raca.fit_transform(previsores[:,8])\n",
        "# previsores[:,10] = label_encoder_idioma.fit_transform(previsores[:,10])\n",
        "# previsores[:,11] = label_encoder_ftse.fit_transform(previsores[:,11])\n",
        "# previsores[:,13] = label_encoder_cia_domiciliar.fit_transform(previsores[:,13])\n",
        "# previsores[:,14] = label_encoder_nivel_pai.fit_transform(previsores[:,14])\n",
        "# previsores[:,15] = label_encoder_nivel_mae.fit_transform(previsores[:,15])\n",
        "# previsores[:,17] = label_encoder_estado_civil.fit_transform(previsores[:,17])\n",
        "# previsores[:,19] = label_encoder_tipo_residencia.fit_transform(previsores[:,19])\n",
        "# previsores[:,20] = label_encoder_trabalha.fit_transform(previsores[:,20])"
      ],
      "execution_count": null,
      "outputs": []
    },
    {
      "cell_type": "markdown",
      "metadata": {
        "id": "qd5NpkMza_wf"
      },
      "source": [
        "Standardização dos valores previsores"
      ]
    },
    {
      "cell_type": "code",
      "metadata": {
        "id": "PXfFkv8H1lxM"
      },
      "source": [
        "# A=set(dados_aluno.columns)\n",
        "# B=set(columns_to_fit.pop())\n",
        "columns_to_scale=[\"rendabruta\",\t\"ira\", \"idade\", \"quantidade_computadores\", \"quantidade_notebooks\", \"qtd_filhos\"]\n",
        "\n",
        "# Nao deveria ser aplicado apenas para as colunas que não sofreram codificação OneHot? Ou seja, apenas as numericas devem ser normalizadas\n",
        "# Mais precisamente, só entendo que devem ser normalizados os campos: rendabruta,\tira, idade, quantidade_computadores, quantidade_notebooks, qtd_filhos\n",
        "scaler = StandardScaler()  \n",
        "\n",
        "# que tal chamar s_previsores, pra indicar que foram scaled?\n",
        "s_valores = scaler.fit_transform(df.loc[:, columns_to_scale])#valores normalizados\n",
        "s_df=pd.DataFrame(data=s_valores[0:,0:],\n",
        "                index=[i for i in range(s_valores.shape[0])],\n",
        "                columns=columns_to_scale)\n",
        "df = df.drop(columns_to_scale, 1)\n",
        "df = pd.concat([df, s_df], axis=1)\n",
        "\n",
        "df = df.reindex(columns=['campus','curso','anoingresso','periodoingresso',\n",
        " 'rendabruta','ira','modalidade','genero','raca','idade','idioma','ficou_tempo_sem_estudar',\n",
        " 'quantidade_computadores','companhia_domiciliar','mae_nivel_escolaridade','pai_nivel_escolaridade',\n",
        " 'quantidade_notebooks','estado_civil','qtd_filhos','tipo_area_residencial','trabalha','reprovacoes',\n",
        " 'reprovacoes_por_falta','percentual_carga_horaria_frequentada_mean','carga_horaria_total','situacao'])\n",
        "\n",
        "pickle.dump(scaler, open('scaler.pkl', 'wb'))"
      ],
      "execution_count": null,
      "outputs": []
    },
    {
      "cell_type": "code",
      "metadata": {
        "id": "1W8zxS3vrkoJ"
      },
      "source": [
        ""
      ],
      "execution_count": null,
      "outputs": []
    },
    {
      "cell_type": "markdown",
      "metadata": {
        "id": "B5mehfXYbzPa"
      },
      "source": [
        "Divisão entre teste/treinamento"
      ]
    },
    {
      "cell_type": "code",
      "metadata": {
        "id": "5ufUdlobb5Jp"
      },
      "source": [
        "# por quê usar aqui series de valores e não o dataframe?\n",
        "previsores_treinamento, previsores_teste, situacao_treinamento, situacao_teste = train_test_split(df.drop('situacao', 1), df.loc[:, 'situacao'], test_size = 0.15, random_state = 0)"
      ],
      "execution_count": null,
      "outputs": []
    },
    {
      "cell_type": "markdown",
      "metadata": {
        "id": "K5hYO9g9cyrQ"
      },
      "source": [
        "# Naive Bayes"
      ]
    },
    {
      "cell_type": "markdown",
      "metadata": {
        "id": "nnCWKpxiR4nu"
      },
      "source": [
        "Usando todos os features que temos"
      ]
    },
    {
      "cell_type": "code",
      "metadata": {
        "id": "CkAapX84cx7D",
        "colab": {
          "base_uri": "https://localhost:8080/",
          "height": 444
        },
        "outputId": "704763ac-592b-4fbc-f7d1-49a9cd598263"
      },
      "source": [
        "naive = GaussianNB()\n",
        "naive.fit(previsores_treinamento, situacao_treinamento)\n",
        "previsoes = naive.predict(previsores_teste)\n",
        "previsores_treinamento"
      ],
      "execution_count": null,
      "outputs": [
        {
          "output_type": "execute_result",
          "data": {
            "text/html": [
              "<div>\n",
              "<style scoped>\n",
              "    .dataframe tbody tr th:only-of-type {\n",
              "        vertical-align: middle;\n",
              "    }\n",
              "\n",
              "    .dataframe tbody tr th {\n",
              "        vertical-align: top;\n",
              "    }\n",
              "\n",
              "    .dataframe thead th {\n",
              "        text-align: right;\n",
              "    }\n",
              "</style>\n",
              "<table border=\"1\" class=\"dataframe\">\n",
              "  <thead>\n",
              "    <tr style=\"text-align: right;\">\n",
              "      <th></th>\n",
              "      <th>campus</th>\n",
              "      <th>curso</th>\n",
              "      <th>anoingresso</th>\n",
              "      <th>periodoingresso</th>\n",
              "      <th>rendabruta</th>\n",
              "      <th>ira</th>\n",
              "      <th>modalidade</th>\n",
              "      <th>genero</th>\n",
              "      <th>raca</th>\n",
              "      <th>idade</th>\n",
              "      <th>idioma</th>\n",
              "      <th>ficou_tempo_sem_estudar</th>\n",
              "      <th>quantidade_computadores</th>\n",
              "      <th>companhia_domiciliar</th>\n",
              "      <th>mae_nivel_escolaridade</th>\n",
              "      <th>pai_nivel_escolaridade</th>\n",
              "      <th>quantidade_notebooks</th>\n",
              "      <th>estado_civil</th>\n",
              "      <th>qtd_filhos</th>\n",
              "      <th>tipo_area_residencial</th>\n",
              "      <th>trabalha</th>\n",
              "      <th>reprovacoes</th>\n",
              "      <th>reprovacoes_por_falta</th>\n",
              "      <th>percentual_carga_horaria_frequentada_mean</th>\n",
              "      <th>carga_horaria_total</th>\n",
              "    </tr>\n",
              "  </thead>\n",
              "  <tbody>\n",
              "    <tr>\n",
              "      <th>7975</th>\n",
              "      <td>12</td>\n",
              "      <td>114</td>\n",
              "      <td>2017</td>\n",
              "      <td>1</td>\n",
              "      <td>-0.205584</td>\n",
              "      <td>0.689285</td>\n",
              "      <td>3</td>\n",
              "      <td>2</td>\n",
              "      <td>2</td>\n",
              "      <td>-0.580360</td>\n",
              "      <td>1</td>\n",
              "      <td>1</td>\n",
              "      <td>-0.200040</td>\n",
              "      <td>1</td>\n",
              "      <td>4</td>\n",
              "      <td>4</td>\n",
              "      <td>-0.592698</td>\n",
              "      <td>1</td>\n",
              "      <td>-0.319728</td>\n",
              "      <td>2</td>\n",
              "      <td>2</td>\n",
              "      <td>0.0</td>\n",
              "      <td>0.0</td>\n",
              "      <td>0.0</td>\n",
              "      <td>0.0</td>\n",
              "    </tr>\n",
              "    <tr>\n",
              "      <th>10524</th>\n",
              "      <td>20</td>\n",
              "      <td>169</td>\n",
              "      <td>2015</td>\n",
              "      <td>2</td>\n",
              "      <td>-0.449448</td>\n",
              "      <td>0.650134</td>\n",
              "      <td>1</td>\n",
              "      <td>2</td>\n",
              "      <td>2</td>\n",
              "      <td>1.858004</td>\n",
              "      <td>1</td>\n",
              "      <td>1</td>\n",
              "      <td>1.179972</td>\n",
              "      <td>6</td>\n",
              "      <td>1</td>\n",
              "      <td>7</td>\n",
              "      <td>1.257762</td>\n",
              "      <td>1</td>\n",
              "      <td>6.372800</td>\n",
              "      <td>1</td>\n",
              "      <td>1</td>\n",
              "      <td>0.0</td>\n",
              "      <td>0.0</td>\n",
              "      <td>0.0</td>\n",
              "      <td>0.0</td>\n",
              "    </tr>\n",
              "    <tr>\n",
              "      <th>2140</th>\n",
              "      <td>12</td>\n",
              "      <td>114</td>\n",
              "      <td>2016</td>\n",
              "      <td>1</td>\n",
              "      <td>-0.099247</td>\n",
              "      <td>0.966139</td>\n",
              "      <td>3</td>\n",
              "      <td>2</td>\n",
              "      <td>2</td>\n",
              "      <td>-0.293494</td>\n",
              "      <td>1</td>\n",
              "      <td>1</td>\n",
              "      <td>-0.200040</td>\n",
              "      <td>3</td>\n",
              "      <td>2</td>\n",
              "      <td>4</td>\n",
              "      <td>-0.592698</td>\n",
              "      <td>1</td>\n",
              "      <td>-0.319728</td>\n",
              "      <td>2</td>\n",
              "      <td>2</td>\n",
              "      <td>0.0</td>\n",
              "      <td>0.0</td>\n",
              "      <td>0.0</td>\n",
              "      <td>0.0</td>\n",
              "    </tr>\n",
              "    <tr>\n",
              "      <th>8130</th>\n",
              "      <td>20</td>\n",
              "      <td>196</td>\n",
              "      <td>2014</td>\n",
              "      <td>2</td>\n",
              "      <td>0.077980</td>\n",
              "      <td>0.546664</td>\n",
              "      <td>1</td>\n",
              "      <td>1</td>\n",
              "      <td>5</td>\n",
              "      <td>0.567106</td>\n",
              "      <td>1</td>\n",
              "      <td>1</td>\n",
              "      <td>-0.200040</td>\n",
              "      <td>5</td>\n",
              "      <td>5</td>\n",
              "      <td>7</td>\n",
              "      <td>-0.592698</td>\n",
              "      <td>1</td>\n",
              "      <td>-0.319728</td>\n",
              "      <td>2</td>\n",
              "      <td>1</td>\n",
              "      <td>0.0</td>\n",
              "      <td>0.0</td>\n",
              "      <td>0.0</td>\n",
              "      <td>0.0</td>\n",
              "    </tr>\n",
              "    <tr>\n",
              "      <th>31615</th>\n",
              "      <td>6</td>\n",
              "      <td>198</td>\n",
              "      <td>2017</td>\n",
              "      <td>1</td>\n",
              "      <td>0.042534</td>\n",
              "      <td>0.432007</td>\n",
              "      <td>4</td>\n",
              "      <td>2</td>\n",
              "      <td>2</td>\n",
              "      <td>-0.150060</td>\n",
              "      <td>1</td>\n",
              "      <td>1</td>\n",
              "      <td>-0.200040</td>\n",
              "      <td>4</td>\n",
              "      <td>6</td>\n",
              "      <td>4</td>\n",
              "      <td>-0.592698</td>\n",
              "      <td>1</td>\n",
              "      <td>-0.319728</td>\n",
              "      <td>1</td>\n",
              "      <td>2</td>\n",
              "      <td>0.0</td>\n",
              "      <td>0.0</td>\n",
              "      <td>0.0</td>\n",
              "      <td>0.0</td>\n",
              "    </tr>\n",
              "    <tr>\n",
              "      <th>...</th>\n",
              "      <td>...</td>\n",
              "      <td>...</td>\n",
              "      <td>...</td>\n",
              "      <td>...</td>\n",
              "      <td>...</td>\n",
              "      <td>...</td>\n",
              "      <td>...</td>\n",
              "      <td>...</td>\n",
              "      <td>...</td>\n",
              "      <td>...</td>\n",
              "      <td>...</td>\n",
              "      <td>...</td>\n",
              "      <td>...</td>\n",
              "      <td>...</td>\n",
              "      <td>...</td>\n",
              "      <td>...</td>\n",
              "      <td>...</td>\n",
              "      <td>...</td>\n",
              "      <td>...</td>\n",
              "      <td>...</td>\n",
              "      <td>...</td>\n",
              "      <td>...</td>\n",
              "      <td>...</td>\n",
              "      <td>...</td>\n",
              "      <td>...</td>\n",
              "    </tr>\n",
              "    <tr>\n",
              "      <th>20757</th>\n",
              "      <td>4</td>\n",
              "      <td>50</td>\n",
              "      <td>2019</td>\n",
              "      <td>2</td>\n",
              "      <td>-0.241029</td>\n",
              "      <td>0.373281</td>\n",
              "      <td>1</td>\n",
              "      <td>1</td>\n",
              "      <td>2</td>\n",
              "      <td>-0.293494</td>\n",
              "      <td>1</td>\n",
              "      <td>1</td>\n",
              "      <td>-0.200040</td>\n",
              "      <td>4</td>\n",
              "      <td>2</td>\n",
              "      <td>2</td>\n",
              "      <td>1.257762</td>\n",
              "      <td>1</td>\n",
              "      <td>-0.319728</td>\n",
              "      <td>2</td>\n",
              "      <td>2</td>\n",
              "      <td>0.0</td>\n",
              "      <td>0.0</td>\n",
              "      <td>0.0</td>\n",
              "      <td>0.0</td>\n",
              "    </tr>\n",
              "    <tr>\n",
              "      <th>32103</th>\n",
              "      <td>17</td>\n",
              "      <td>37</td>\n",
              "      <td>2017</td>\n",
              "      <td>1</td>\n",
              "      <td>-0.141782</td>\n",
              "      <td>0.571832</td>\n",
              "      <td>3</td>\n",
              "      <td>1</td>\n",
              "      <td>3</td>\n",
              "      <td>-0.293494</td>\n",
              "      <td>1</td>\n",
              "      <td>1</td>\n",
              "      <td>-0.200040</td>\n",
              "      <td>4</td>\n",
              "      <td>2</td>\n",
              "      <td>2</td>\n",
              "      <td>1.257762</td>\n",
              "      <td>1</td>\n",
              "      <td>-0.319728</td>\n",
              "      <td>2</td>\n",
              "      <td>2</td>\n",
              "      <td>0.0</td>\n",
              "      <td>0.0</td>\n",
              "      <td>0.0</td>\n",
              "      <td>0.0</td>\n",
              "    </tr>\n",
              "    <tr>\n",
              "      <th>30403</th>\n",
              "      <td>18</td>\n",
              "      <td>232</td>\n",
              "      <td>2017</td>\n",
              "      <td>1</td>\n",
              "      <td>-0.170138</td>\n",
              "      <td>0.557850</td>\n",
              "      <td>3</td>\n",
              "      <td>2</td>\n",
              "      <td>2</td>\n",
              "      <td>-0.436927</td>\n",
              "      <td>1</td>\n",
              "      <td>1</td>\n",
              "      <td>-0.200040</td>\n",
              "      <td>4</td>\n",
              "      <td>6</td>\n",
              "      <td>1</td>\n",
              "      <td>-0.592698</td>\n",
              "      <td>1</td>\n",
              "      <td>-0.319728</td>\n",
              "      <td>2</td>\n",
              "      <td>2</td>\n",
              "      <td>0.0</td>\n",
              "      <td>0.0</td>\n",
              "      <td>0.0</td>\n",
              "      <td>0.0</td>\n",
              "    </tr>\n",
              "    <tr>\n",
              "      <th>21243</th>\n",
              "      <td>21</td>\n",
              "      <td>97</td>\n",
              "      <td>2015</td>\n",
              "      <td>1</td>\n",
              "      <td>-0.329643</td>\n",
              "      <td>0.717250</td>\n",
              "      <td>3</td>\n",
              "      <td>1</td>\n",
              "      <td>2</td>\n",
              "      <td>-0.436927</td>\n",
              "      <td>1</td>\n",
              "      <td>1</td>\n",
              "      <td>-0.200040</td>\n",
              "      <td>5</td>\n",
              "      <td>5</td>\n",
              "      <td>4</td>\n",
              "      <td>1.257762</td>\n",
              "      <td>1</td>\n",
              "      <td>-0.319728</td>\n",
              "      <td>2</td>\n",
              "      <td>2</td>\n",
              "      <td>0.0</td>\n",
              "      <td>0.0</td>\n",
              "      <td>0.0</td>\n",
              "      <td>0.0</td>\n",
              "    </tr>\n",
              "    <tr>\n",
              "      <th>2732</th>\n",
              "      <td>8</td>\n",
              "      <td>10</td>\n",
              "      <td>2020</td>\n",
              "      <td>1</td>\n",
              "      <td>-0.099956</td>\n",
              "      <td>0.761994</td>\n",
              "      <td>1</td>\n",
              "      <td>2</td>\n",
              "      <td>2</td>\n",
              "      <td>-0.436927</td>\n",
              "      <td>1</td>\n",
              "      <td>1</td>\n",
              "      <td>-0.200040</td>\n",
              "      <td>3</td>\n",
              "      <td>2</td>\n",
              "      <td>1</td>\n",
              "      <td>-0.592698</td>\n",
              "      <td>1</td>\n",
              "      <td>1.018778</td>\n",
              "      <td>1</td>\n",
              "      <td>2</td>\n",
              "      <td>0.0</td>\n",
              "      <td>0.0</td>\n",
              "      <td>0.0</td>\n",
              "      <td>0.0</td>\n",
              "    </tr>\n",
              "  </tbody>\n",
              "</table>\n",
              "<p>29342 rows × 25 columns</p>\n",
              "</div>"
            ],
            "text/plain": [
              "       campus  ...  carga_horaria_total\n",
              "7975       12  ...                  0.0\n",
              "10524      20  ...                  0.0\n",
              "2140       12  ...                  0.0\n",
              "8130       20  ...                  0.0\n",
              "31615       6  ...                  0.0\n",
              "...       ...  ...                  ...\n",
              "20757       4  ...                  0.0\n",
              "32103      17  ...                  0.0\n",
              "30403      18  ...                  0.0\n",
              "21243      21  ...                  0.0\n",
              "2732        8  ...                  0.0\n",
              "\n",
              "[29342 rows x 25 columns]"
            ]
          },
          "metadata": {
            "tags": []
          },
          "execution_count": 29
        }
      ]
    },
    {
      "cell_type": "code",
      "metadata": {
        "id": "zV3-jt7rNoyI",
        "colab": {
          "base_uri": "https://localhost:8080/"
        },
        "outputId": "345373bd-a690-4492-b363-08831c31ed3a"
      },
      "source": [
        "accuracy_score(situacao_teste, previsoes)"
      ],
      "execution_count": null,
      "outputs": [
        {
          "output_type": "execute_result",
          "data": {
            "text/plain": [
              "0.654759606101564"
            ]
          },
          "metadata": {
            "tags": []
          },
          "execution_count": 26
        }
      ]
    },
    {
      "cell_type": "code",
      "metadata": {
        "id": "72x2w9IcMqqF",
        "colab": {
          "base_uri": "https://localhost:8080/",
          "height": 172
        },
        "outputId": "efcad64a-41fe-4d15-a7a8-f9f3f7da009a"
      },
      "source": [
        "print(classification_report(situacao_teste, previsoes))"
      ],
      "execution_count": null,
      "outputs": [
        {
          "output_type": "error",
          "ename": "NameError",
          "evalue": "ignored",
          "traceback": [
            "\u001b[0;31m---------------------------------------------------------------------------\u001b[0m",
            "\u001b[0;31mNameError\u001b[0m                                 Traceback (most recent call last)",
            "\u001b[0;32m<ipython-input-29-34662350a241>\u001b[0m in \u001b[0;36m<module>\u001b[0;34m()\u001b[0m\n\u001b[0;32m----> 1\u001b[0;31m \u001b[0mprint\u001b[0m\u001b[0;34m(\u001b[0m\u001b[0mclassification_report\u001b[0m\u001b[0;34m(\u001b[0m\u001b[0msituacao_teste\u001b[0m\u001b[0;34m,\u001b[0m \u001b[0mprevisoes\u001b[0m\u001b[0;34m)\u001b[0m\u001b[0;34m)\u001b[0m\u001b[0;34m\u001b[0m\u001b[0;34m\u001b[0m\u001b[0m\n\u001b[0m",
            "\u001b[0;31mNameError\u001b[0m: name 'previsoes' is not defined"
          ]
        }
      ]
    },
    {
      "cell_type": "code",
      "metadata": {
        "id": "GPRnLHNkOuIx",
        "colab": {
          "base_uri": "https://localhost:8080/",
          "height": 172
        },
        "outputId": "8865d1fe-49e6-400c-a2ec-de1be3a8696c"
      },
      "source": [
        "confusion_matrix(situacao_teste, previsoes)"
      ],
      "execution_count": null,
      "outputs": [
        {
          "output_type": "error",
          "ename": "NameError",
          "evalue": "ignored",
          "traceback": [
            "\u001b[0;31m---------------------------------------------------------------------------\u001b[0m",
            "\u001b[0;31mNameError\u001b[0m                                 Traceback (most recent call last)",
            "\u001b[0;32m<ipython-input-28-11f6d3929f88>\u001b[0m in \u001b[0;36m<module>\u001b[0;34m()\u001b[0m\n\u001b[0;32m----> 1\u001b[0;31m \u001b[0mconfusion_matrix\u001b[0m\u001b[0;34m(\u001b[0m\u001b[0msituacao_teste\u001b[0m\u001b[0;34m,\u001b[0m \u001b[0mprevisoes\u001b[0m\u001b[0;34m)\u001b[0m\u001b[0;34m\u001b[0m\u001b[0;34m\u001b[0m\u001b[0m\n\u001b[0m",
            "\u001b[0;31mNameError\u001b[0m: name 'previsoes' is not defined"
          ]
        }
      ]
    },
    {
      "cell_type": "markdown",
      "metadata": {
        "id": "rDiEiuuCMgrp"
      },
      "source": [
        "## Naive Bayes com seleção de atributos"
      ]
    },
    {
      "cell_type": "markdown",
      "metadata": {
        "id": "PWDvxlTGPxum"
      },
      "source": [
        "Usando o algoritmo f_class"
      ]
    },
    {
      "cell_type": "code",
      "metadata": {
        "id": "AIZYu4ZGMvC7"
      },
      "source": [
        "from sklearn.feature_selection import SelectKBest\n",
        "from sklearn.feature_selection import f_classif, mutual_info_classif\n",
        "f_classif = SelectKBest(score_func=f_classif, k=10)\n",
        "fit = f_classif.fit(df.drop('situacao', 1),situacao)\n",
        "previsores_fclass = fit.transform(df.drop('situacao', 1))\n",
        "\n",
        "cols = fit.get_support(indices=True)\n"
      ],
      "execution_count": null,
      "outputs": []
    },
    {
      "cell_type": "code",
      "metadata": {
        "id": "Vc91-a_7PIAg"
      },
      "source": [
        "previsores_fclass_treinamento, previsores_fclass_teste, situacao_treinamento, situacao_teste = train_test_split(previsores_fclass, situacao, test_size = 0.15, random_state = 0)"
      ],
      "execution_count": null,
      "outputs": []
    },
    {
      "cell_type": "code",
      "metadata": {
        "id": "OU0V1LXiPYh9",
        "colab": {
          "base_uri": "https://localhost:8080/"
        },
        "outputId": "a54e3c1e-9fe1-43d2-c4c4-539936826156"
      },
      "source": [
        "naive_fclass = GaussianNB()\n",
        "naive_fclass.fit(previsores_fclass_treinamento, situacao_treinamento)\n",
        "previsoes_fclass = naive_fclass.predict(previsores_fclass_teste)\n",
        "previsores_fclass_treinamento.shape"
      ],
      "execution_count": null,
      "outputs": [
        {
          "output_type": "execute_result",
          "data": {
            "text/plain": [
              "(29342, 10)"
            ]
          },
          "metadata": {
            "tags": []
          },
          "execution_count": 35
        }
      ]
    },
    {
      "cell_type": "code",
      "metadata": {
        "id": "YQKko3g0O6i2",
        "colab": {
          "base_uri": "https://localhost:8080/"
        },
        "outputId": "634ef411-2636-4615-a3ed-17adcb2bca1b"
      },
      "source": [
        "accuracy_score(situacao_teste, previsoes_fclass)"
      ],
      "execution_count": null,
      "outputs": [
        {
          "output_type": "execute_result",
          "data": {
            "text/plain": [
              "0.8520949990345627"
            ]
          },
          "metadata": {
            "tags": []
          },
          "execution_count": 33
        }
      ]
    },
    {
      "cell_type": "code",
      "metadata": {
        "id": "UciQt5kQPTD9"
      },
      "source": [
        "confusion_matrix(situacao_teste, previsoes_fclass)"
      ],
      "execution_count": null,
      "outputs": []
    },
    {
      "cell_type": "markdown",
      "metadata": {
        "id": "vo8Hbgs7P_0h"
      },
      "source": [
        "Usando o mutual_info_class"
      ]
    },
    {
      "cell_type": "code",
      "metadata": {
        "id": "1EK3emXSZ4yo"
      },
      "source": [
        "#a tayna usou um algoritmo parecido, o information gain. Segundo pesquisas o information gain é mais usado em arvores de decisao"
      ],
      "execution_count": null,
      "outputs": []
    },
    {
      "cell_type": "code",
      "metadata": {
        "id": "347-fu3eOqq7"
      },
      "source": [
        "from sklearn.feature_selection import f_classif, mutual_info_classif\n",
        "mutual_info_classif = SelectKBest(score_func=mutual_info_classif, k=10)\n",
        "fit = mutual_info_classif.fit(df.drop('situacao', 1),situacao)\n",
        "previsores_mutual_info_class = fit.transform(df.drop('situacao', 1))\n",
        "\n",
        "cols = fit.get_support(indices=True)\n",
        "pickle.dump(df.iloc[:,cols], open('features_esc.pkl', 'wb'))"
      ],
      "execution_count": null,
      "outputs": []
    },
    {
      "cell_type": "code",
      "metadata": {
        "id": "T0hx1hvcOU7R"
      },
      "source": [
        "previsores_mutualinfoclass_treinamento, previsores_mutualinfoclass_teste, situacao_treinamento, situacao_teste = train_test_split(previsores_mutual_info_class, situacao, test_size = 0.15, random_state = 0)"
      ],
      "execution_count": null,
      "outputs": []
    },
    {
      "cell_type": "code",
      "metadata": {
        "id": "agGEGFT6QyAS"
      },
      "source": [
        "naive_mutualinfoclass = GaussianNB()\n",
        "naive_mutualinfoclass.fit(previsores_mutualinfoclass_treinamento, situacao_treinamento)\n",
        "pickle.dump(naive_mutualinfoclass, open('modelo.pickle', 'wb'))\n",
        "print(previsores_mutualinfoclass_teste)\n",
        "previsoes_mutualinfoclass = naive_mutualinfoclass.predict(previsores_mutualinfoclass_teste)\n",
        "previsoes_mutualinfoclass"
      ],
      "execution_count": null,
      "outputs": []
    },
    {
      "cell_type": "code",
      "metadata": {
        "id": "vLfI4IzmQ4b9"
      },
      "source": [
        "accuracy_score(situacao_teste, previsoes_mutualinfoclass)"
      ],
      "execution_count": null,
      "outputs": []
    },
    {
      "cell_type": "code",
      "metadata": {
        "id": "oho0esJHPX11"
      },
      "source": [
        "confusion_matrix(situacao_teste, previsoes_mutualinfoclass)"
      ],
      "execution_count": null,
      "outputs": []
    },
    {
      "cell_type": "markdown",
      "metadata": {
        "id": "HB95hqG4QkeA"
      },
      "source": [
        "Salvamento do modelo treinado usando o pickle"
      ]
    },
    {
      "cell_type": "code",
      "metadata": {
        "id": "DsKQLITZjbji"
      },
      "source": [
        "previsores_mutualinfoclass_teste\n",
        "situacao_teste"
      ],
      "execution_count": null,
      "outputs": []
    },
    {
      "cell_type": "code",
      "metadata": {
        "id": "5-kZyvVQhdkw"
      },
      "source": [
        "# pickle.dump(previsores_mutualinfoclass_teste, open(\"previsores_teste.sav\",\"wb\"))\n",
        "# pickle.dump(situacao_teste, open(\"situacao_teste.sav\",\"wb\"))"
      ],
      "execution_count": null,
      "outputs": []
    },
    {
      "cell_type": "code",
      "metadata": {
        "id": "KC60e9lmNuNo"
      },
      "source": [
        "# import pickle\n",
        "\n",
        "# previsores_mutualinfoclass=np.concatenate((previsores_mutualinfoclass_treinamento,previsores_mutualinfoclass_teste),axis=0)\n",
        "# situacao_mutualinfoclass=np.concatenate((situacao_treinamento,situacao_teste),axis=0)\n",
        "# naive_finalizado=GaussianNB()\n",
        "# naive_finalizado.fit(previsores_mutualinfoclass,situacao_mutualinfoclass)\n",
        "# pickle.dump(naive_mutualinfoclass, open(\"classificador_naive_mutualinfoclass.sav\",\"wb\"))"
      ],
      "execution_count": null,
      "outputs": []
    },
    {
      "cell_type": "code",
      "metadata": {
        "id": "AAlwmKE4hdBf"
      },
      "source": [
        ""
      ],
      "execution_count": null,
      "outputs": []
    },
    {
      "cell_type": "markdown",
      "metadata": {
        "id": "ZkbC-3AtTT3O"
      },
      "source": [
        "Salvamento do modelo treinado usando o joblib"
      ]
    },
    {
      "cell_type": "code",
      "metadata": {
        "id": "Cj-2ZGi1TZ0s"
      },
      "source": [
        "from sklearn.externals import joblib\n",
        "joblib.dump(naive_mutualinfoclass, \"classificador_naive_mutualinfoclass_jl.joblib\")"
      ],
      "execution_count": null,
      "outputs": []
    },
    {
      "cell_type": "markdown",
      "metadata": {
        "id": "5PaN0RbXoE0o"
      },
      "source": [
        "# Árvores de Decisão"
      ]
    },
    {
      "cell_type": "markdown",
      "metadata": {
        "id": "hB9HiccOrsUF"
      },
      "source": [
        "Usando todas as features"
      ]
    },
    {
      "cell_type": "code",
      "metadata": {
        "id": "DS2WmHXcoMEu"
      },
      "source": [
        "from sklearn.tree import DecisionTreeClassifier"
      ],
      "execution_count": null,
      "outputs": []
    },
    {
      "cell_type": "code",
      "metadata": {
        "id": "1nuqWMqRpmoj"
      },
      "source": [
        "arvore = DecisionTreeClassifier(criterion='entropy', random_state = 0)\n",
        "arvore.fit(previsores_treinamento, situacao_treinamento)"
      ],
      "execution_count": null,
      "outputs": []
    },
    {
      "cell_type": "code",
      "metadata": {
        "id": "-jb7yWA2p63l"
      },
      "source": [
        "previsoes_tree = arvore.predict(previsores_teste)\n",
        "previsoes_tree"
      ],
      "execution_count": null,
      "outputs": []
    },
    {
      "cell_type": "code",
      "metadata": {
        "id": "YXYaQ4LPqKJ_"
      },
      "source": [
        "accuracy_score(situacao_teste, previsoes_tree)"
      ],
      "execution_count": null,
      "outputs": []
    },
    {
      "cell_type": "code",
      "metadata": {
        "id": "2R05v1pRqsfQ"
      },
      "source": [
        "print(classification_report(situacao_teste, previsoes_tree))"
      ],
      "execution_count": null,
      "outputs": []
    },
    {
      "cell_type": "code",
      "metadata": {
        "id": "8vtVIhuJPfeb"
      },
      "source": [
        "confusion_matrix(situacao_teste, previsoes_tree)"
      ],
      "execution_count": null,
      "outputs": []
    },
    {
      "cell_type": "markdown",
      "metadata": {
        "id": "U-lhmsocsAFR"
      },
      "source": [
        "## Arvores de decisão com seleção de features"
      ]
    },
    {
      "cell_type": "markdown",
      "metadata": {
        "id": "RaCuTOdBt6SB"
      },
      "source": [
        "Usando o algoritmo f_class"
      ]
    },
    {
      "cell_type": "code",
      "metadata": {
        "id": "L75Nk6bxsHdZ"
      },
      "source": [
        "f_classif_tree = SelectKBest(score_func=f_classif, k=10)\n",
        "fit = f_classif_tree.fit(previsores,situacao)\n",
        "previsores_fclass_tree = fit.transform(previsores)\n",
        "\n",
        "cols = fit.get_support(indices=True)\n",
        "dados_aluno.iloc[:,cols]"
      ],
      "execution_count": null,
      "outputs": []
    },
    {
      "cell_type": "code",
      "metadata": {
        "id": "MWo8U4mwsq0w"
      },
      "source": [
        "previsores_fclass_tree_treinamento, previsores_fclass_tree_teste, situacao_treinamento, situacao_teste = train_test_split(previsores_fclass_tree, situacao, test_size = 0.15, random_state = 0)"
      ],
      "execution_count": null,
      "outputs": []
    },
    {
      "cell_type": "code",
      "metadata": {
        "id": "_2n_FN6MtDUE"
      },
      "source": [
        "tree_fclass = DecisionTreeClassifier(criterion='entropy', random_state = 0)\n",
        "tree_fclass.fit(previsores_fclass_tree_treinamento, situacao_treinamento)\n",
        "previsoes_fclass_tree = tree_fclass.predict(previsores_fclass_tree_teste)\n",
        "previsoes_fclass_tree"
      ],
      "execution_count": null,
      "outputs": []
    },
    {
      "cell_type": "code",
      "metadata": {
        "id": "Lw9AwONttnzy"
      },
      "source": [
        "accuracy_score(situacao_teste, previsoes_fclass_tree)"
      ],
      "execution_count": null,
      "outputs": []
    },
    {
      "cell_type": "code",
      "metadata": {
        "id": "yEY8_C4hP04m"
      },
      "source": [
        "confusion_matrix(situacao_teste, previsoes_fclass_tree)"
      ],
      "execution_count": null,
      "outputs": []
    },
    {
      "cell_type": "markdown",
      "metadata": {
        "id": "esWdhWuJuIAV"
      },
      "source": [
        "Usando o mutual_info_class"
      ]
    },
    {
      "cell_type": "code",
      "metadata": {
        "id": "VEHOevnzu2FS"
      },
      "source": [
        "from sklearn.feature_selection import  mutual_info_classif\n",
        "mutual_info_classif_tree = SelectKBest(score_func=mutual_info_classif, k=10)\n",
        "fit = mutual_info_classif_tree.fit(previsores,situacao)\n",
        "previsores_mutual_info_class_tree = fit.transform(previsores)\n",
        "\n",
        "cols = fit.get_support(indices=True)\n",
        "dados_aluno.iloc[:,cols]"
      ],
      "execution_count": null,
      "outputs": []
    },
    {
      "cell_type": "code",
      "metadata": {
        "id": "zVw2Vpkeu3eD"
      },
      "source": [
        "previsores_mutualinfoclass_tree_treinamento, previsores_mutualinfoclass_tree_teste, situacao_treinamento, situacao_teste = train_test_split(previsores_mutual_info_class_tree, situacao, test_size = 0.15, random_state = 0)"
      ],
      "execution_count": null,
      "outputs": []
    },
    {
      "cell_type": "code",
      "metadata": {
        "id": "LEPiXNMZu-R2"
      },
      "source": [
        "tree_mutualinfoclass = DecisionTreeClassifier(criterion='entropy', random_state = 0)\n",
        "tree_mutualinfoclass.fit(previsores_mutualinfoclass_tree_treinamento, situacao_treinamento)\n",
        "previsoes_mutualinfoclass_tree = tree_mutualinfoclass.predict(previsores_mutualinfoclass_tree_teste)\n",
        "previsoes_mutualinfoclass_tree"
      ],
      "execution_count": null,
      "outputs": []
    },
    {
      "cell_type": "code",
      "metadata": {
        "id": "hoMM-U3DvFg4"
      },
      "source": [
        "accuracy_score(situacao_teste, previsoes_mutualinfoclass_tree)"
      ],
      "execution_count": null,
      "outputs": []
    },
    {
      "cell_type": "code",
      "metadata": {
        "id": "ldE8C1_mP7BL"
      },
      "source": [
        "confusion_matrix(situacao_teste, previsoes_mutualinfoclass_tree)"
      ],
      "execution_count": null,
      "outputs": []
    },
    {
      "cell_type": "markdown",
      "metadata": {
        "id": "ggp9zI1Z_RTS"
      },
      "source": [
        "Usando o chi2"
      ]
    },
    {
      "cell_type": "code",
      "metadata": {
        "id": "uMkszh4MFf-p"
      },
      "source": [
        "from sklearn.preprocessing import MinMaxScaler\n",
        "minmax = MinMaxScaler()\n",
        "previsores_minmax = minmax.fit_transform(previsores)"
      ],
      "execution_count": null,
      "outputs": []
    },
    {
      "cell_type": "code",
      "metadata": {
        "id": "E_0MqjQxAHnV"
      },
      "source": [
        "from sklearn.feature_selection import  chi2\n",
        "chi2_tree = SelectKBest(score_func=chi2, k=10)\n",
        "fit = chi2_tree.fit(previsores_minmax,situacao)\n",
        "previsores_chi2_tree = fit.transform(previsores_minmax)\n",
        "\n",
        "cols = fit.get_support(indices=True)\n",
        "dados_aluno.iloc[:,cols]"
      ],
      "execution_count": null,
      "outputs": []
    },
    {
      "cell_type": "code",
      "metadata": {
        "id": "Pgdk4iZ1ANI_"
      },
      "source": [
        "previsores_chi2_tree_treinamento, previsores_chi2_tree_teste, situacao_treinamento, situacao_teste = train_test_split(previsores_chi2_tree, situacao, test_size = 0.15, random_state = 0)"
      ],
      "execution_count": null,
      "outputs": []
    },
    {
      "cell_type": "code",
      "metadata": {
        "id": "-ZSZZagNAP_P"
      },
      "source": [
        "tree_chi2 = DecisionTreeClassifier(criterion='entropy', random_state = 0)\n",
        "tree_chi2.fit(previsores_chi2_tree_treinamento, situacao_treinamento)\n",
        "previsoes_chi2_tree = tree_chi2.predict(previsores_chi2_tree_teste)\n",
        "previsoes_chi2_tree"
      ],
      "execution_count": null,
      "outputs": []
    },
    {
      "cell_type": "code",
      "metadata": {
        "id": "hwj1Y4WdATRt"
      },
      "source": [
        "accuracy_score(situacao_teste, previsoes_chi2_tree)"
      ],
      "execution_count": null,
      "outputs": []
    },
    {
      "cell_type": "code",
      "metadata": {
        "id": "q-iqRfjxw5Gc"
      },
      "source": [
        "confusion_matrix(situacao_teste, previsoes_chi2_tree)"
      ],
      "execution_count": null,
      "outputs": []
    },
    {
      "cell_type": "markdown",
      "metadata": {
        "id": "L8-i2iAs0Djq"
      },
      "source": [
        "#Random Forest"
      ]
    },
    {
      "cell_type": "markdown",
      "metadata": {
        "id": "GjuORW3_0vII"
      },
      "source": [
        "Usando todas as features"
      ]
    },
    {
      "cell_type": "code",
      "metadata": {
        "id": "PesxtcCg0BKh"
      },
      "source": [
        "from sklearn.ensemble import RandomForestClassifier"
      ],
      "execution_count": null,
      "outputs": []
    },
    {
      "cell_type": "code",
      "metadata": {
        "id": "eFY5aH5A08cB"
      },
      "source": [
        "random_forest = RandomForestClassifier(n_estimators=40, criterion='entropy', random_state = 0)\n",
        "random_forest.fit(previsores_treinamento, situacao_treinamento)"
      ],
      "execution_count": null,
      "outputs": []
    },
    {
      "cell_type": "code",
      "metadata": {
        "id": "yWlV0KH809R4"
      },
      "source": [
        "previsoes_random = random_forest.predict(previsores_teste)\n",
        "previsoes_random"
      ],
      "execution_count": null,
      "outputs": []
    },
    {
      "cell_type": "code",
      "metadata": {
        "id": "HJy1fhO81GW8"
      },
      "source": [
        "from sklearn.metrics import accuracy_score, classification_report\n",
        "accuracy_score(situacao_teste, previsoes_random)"
      ],
      "execution_count": null,
      "outputs": []
    },
    {
      "cell_type": "code",
      "metadata": {
        "id": "xRnTgy_52PBi"
      },
      "source": [
        "print(classification_report(situacao_teste, previsoes_random))"
      ],
      "execution_count": null,
      "outputs": []
    },
    {
      "cell_type": "code",
      "metadata": {
        "id": "U_T4d42QQViS"
      },
      "source": [
        "confusion_matrix(situacao_teste, previsoes_random)"
      ],
      "execution_count": null,
      "outputs": []
    },
    {
      "cell_type": "markdown",
      "metadata": {
        "id": "QgFYGcvF24RP"
      },
      "source": [
        "## Random Forests usando seleção de features"
      ]
    },
    {
      "cell_type": "markdown",
      "metadata": {
        "id": "yKOxDpgI5x5M"
      },
      "source": [
        "Usando f_class"
      ]
    },
    {
      "cell_type": "code",
      "metadata": {
        "id": "omd0Spo_3JiB"
      },
      "source": [
        "f_classif_random = SelectKBest(score_func=f_classif, k=10)\n",
        "fit = f_classif_random.fit(previsores,situacao)\n",
        "previsores_fclass_random = fit.transform(previsores)"
      ],
      "execution_count": null,
      "outputs": []
    },
    {
      "cell_type": "code",
      "metadata": {
        "id": "qx8vsFA55hdP"
      },
      "source": [
        "previsores_fclass_random_treinamento, previsores_fclass_random_teste, situacao_treinamento, situacao_teste = train_test_split(previsores_fclass_random, situacao, test_size = 0.15, random_state = 0)"
      ],
      "execution_count": null,
      "outputs": []
    },
    {
      "cell_type": "code",
      "metadata": {
        "id": "yhEjcofr5pZF"
      },
      "source": [
        "random_fclass = RandomForestClassifier(n_estimators=40, criterion='entropy', random_state = 0)\n",
        "random_fclass.fit(previsores_fclass_random_treinamento, situacao_treinamento)\n",
        "previsoes_fclass_random = random_fclass.predict(previsores_fclass_random_teste)\n",
        "previsoes_fclass_random"
      ],
      "execution_count": null,
      "outputs": []
    },
    {
      "cell_type": "code",
      "metadata": {
        "id": "AnltNbx_5qcY"
      },
      "source": [
        "accuracy_score(situacao_teste, previsoes_fclass_random)"
      ],
      "execution_count": null,
      "outputs": []
    },
    {
      "cell_type": "code",
      "metadata": {
        "id": "gWYRFXW86kq5"
      },
      "source": [
        "print(classification_report(situacao_teste, previsoes_fclass_random))"
      ],
      "execution_count": null,
      "outputs": []
    },
    {
      "cell_type": "code",
      "metadata": {
        "id": "7whiL1bDQliD"
      },
      "source": [
        "confusion_matrix(situacao_teste, previsoes_fclass_random)"
      ],
      "execution_count": null,
      "outputs": []
    },
    {
      "cell_type": "markdown",
      "metadata": {
        "id": "AktuTYIM7OId"
      },
      "source": [
        "Usando o mutual_info_class"
      ]
    },
    {
      "cell_type": "code",
      "metadata": {
        "id": "tApQirVc7S4P"
      },
      "source": [
        "from sklearn.feature_selection import  mutual_info_classif\n",
        "mutual_info_classif_random = SelectKBest(score_func=mutual_info_classif, k=10)\n",
        "fit = mutual_info_classif_random.fit(previsores,situacao)\n",
        "previsores_mutual_info_class_random = fit.transform(previsores)"
      ],
      "execution_count": null,
      "outputs": []
    },
    {
      "cell_type": "code",
      "metadata": {
        "id": "eftn6BUq8jzj"
      },
      "source": [
        "previsores_mutualinfoclass_random_treinamento, previsores_mutualinfoclass_random_teste, situacao_treinamento, situacao_teste = train_test_split(previsores_mutual_info_class_random, situacao, test_size = 0.15, random_state = 0)"
      ],
      "execution_count": null,
      "outputs": []
    },
    {
      "cell_type": "code",
      "metadata": {
        "id": "J2_bZU_t8xii"
      },
      "source": [
        "random_mutualinfoclass = RandomForestClassifier(n_estimators=40, criterion='entropy', random_state = 0)\n",
        "random_mutualinfoclass.fit(previsores_mutualinfoclass_random_treinamento, situacao_treinamento)\n",
        "previsoes_mutualinfoclass_random = random_mutualinfoclass.predict(previsores_mutualinfoclass_random_teste)\n",
        "previsoes_mutualinfoclass_random"
      ],
      "execution_count": null,
      "outputs": []
    },
    {
      "cell_type": "code",
      "metadata": {
        "id": "-6Ydv5WS82vS"
      },
      "source": [
        "accuracy_score(situacao_teste, previsoes_mutualinfoclass_random)"
      ],
      "execution_count": null,
      "outputs": []
    },
    {
      "cell_type": "code",
      "metadata": {
        "id": "uhW8TzrjQrkB"
      },
      "source": [
        "confusion_matrix(situacao_teste, previsoes_mutualinfoclass_random)"
      ],
      "execution_count": null,
      "outputs": []
    },
    {
      "cell_type": "markdown",
      "metadata": {
        "id": "4Tz_YCnG_Evr"
      },
      "source": [
        "Usando o chi2"
      ]
    },
    {
      "cell_type": "code",
      "metadata": {
        "id": "VNT7_qKq_t8g"
      },
      "source": [
        "from sklearn.feature_selection import  chi2\n",
        "chi2_random = SelectKBest(score_func=chi2, k=10)\n",
        "fit = chi2_random.fit(previsores_minmax,situacao)\n",
        "previsores_chi2_random = fit.transform(previsores_minmax)"
      ],
      "execution_count": null,
      "outputs": []
    },
    {
      "cell_type": "code",
      "metadata": {
        "id": "EyoDuAbN_0-8"
      },
      "source": [
        "previsores_chi2_random_treinamento, previsores_chi2_random_teste, situacao_treinamento, situacao_teste = train_test_split(previsores_chi2_random, situacao, test_size = 0.15, random_state = 0)"
      ],
      "execution_count": null,
      "outputs": []
    },
    {
      "cell_type": "code",
      "metadata": {
        "id": "uPKMexEn_1rU"
      },
      "source": [
        "random_chi2 = RandomForestClassifier(n_estimators=40, criterion='entropy', random_state = 0)\n",
        "random_chi2.fit(previsores_chi2_random_treinamento, situacao_treinamento)\n",
        "previsoes_chi2_random = random_chi2.predict(previsores_chi2_random_teste)\n",
        "previsoes_chi2_tree"
      ],
      "execution_count": null,
      "outputs": []
    },
    {
      "cell_type": "code",
      "metadata": {
        "id": "lfuh-sbG_-qP"
      },
      "source": [
        "accuracy_score(situacao_teste, previsoes_chi2_random)"
      ],
      "execution_count": null,
      "outputs": []
    },
    {
      "cell_type": "code",
      "metadata": {
        "id": "eb1_P8VWQzw5"
      },
      "source": [
        "confusion_matrix(situacao_teste, previsoes_chi2_random)"
      ],
      "execution_count": null,
      "outputs": []
    },
    {
      "cell_type": "markdown",
      "metadata": {
        "id": "bzZMhUl32Zmk"
      },
      "source": [
        "#SVM"
      ]
    },
    {
      "cell_type": "markdown",
      "metadata": {
        "id": "ULTLsZZW2uuZ"
      },
      "source": [
        "Usando todas as features"
      ]
    },
    {
      "cell_type": "code",
      "metadata": {
        "id": "4mKvovTd3Zgt"
      },
      "source": [
        "from sklearn.svm import SVC"
      ],
      "execution_count": null,
      "outputs": []
    },
    {
      "cell_type": "code",
      "metadata": {
        "id": "a5oab02Q3aJQ"
      },
      "source": [
        "svm = SVC(kernel='rbf', random_state=1, C = 2.0) # 2 -> 4\n",
        "svm.fit(previsores_treinamento, situacao_treinamento)"
      ],
      "execution_count": null,
      "outputs": []
    },
    {
      "cell_type": "code",
      "metadata": {
        "id": "xPANFIMw3i4d"
      },
      "source": [
        "previsoes_svm = svm.predict(previsores_teste)"
      ],
      "execution_count": null,
      "outputs": []
    },
    {
      "cell_type": "code",
      "metadata": {
        "id": "EBPCUBIn3qe3"
      },
      "source": [
        "from sklearn.metrics import accuracy_score, classification_report\n",
        "accuracy_score(situacao_teste, previsoes_svm)"
      ],
      "execution_count": null,
      "outputs": []
    },
    {
      "cell_type": "code",
      "metadata": {
        "id": "c8xZf4ng3zXz"
      },
      "source": [
        "print(classification_report(situacao_teste, previsoes_svm))"
      ],
      "execution_count": null,
      "outputs": []
    },
    {
      "cell_type": "code",
      "metadata": {
        "id": "rrzlfCbMR9L8"
      },
      "source": [
        "confusion_matrix(situacao_teste, previsoes_svm)"
      ],
      "execution_count": null,
      "outputs": []
    },
    {
      "cell_type": "markdown",
      "metadata": {
        "id": "3u2o8s64SObo"
      },
      "source": [
        "##SVM usando seleção de features"
      ]
    },
    {
      "cell_type": "markdown",
      "metadata": {
        "id": "BHE_FxthV7vm"
      },
      "source": [
        "Usando o f_class"
      ]
    },
    {
      "cell_type": "code",
      "metadata": {
        "id": "KBMIai1LSNaF"
      },
      "source": [
        "f_classif_svm = SelectKBest(score_func=f_classif, k=10)\n",
        "fit = f_classif_svm.fit(previsores,situacao)\n",
        "previsores_fclass_svm = fit.transform(previsores)"
      ],
      "execution_count": null,
      "outputs": []
    },
    {
      "cell_type": "code",
      "metadata": {
        "id": "44_1VuuzU0-G"
      },
      "source": [
        "previsores_fclass_svm_treinamento, previsores_fclass_svm_teste, situacao_treinamento, situacao_teste = train_test_split(previsores_fclass_svm, situacao, test_size = 0.15, random_state = 0)"
      ],
      "execution_count": null,
      "outputs": []
    },
    {
      "cell_type": "code",
      "metadata": {
        "id": "GBjfGACxU1zq"
      },
      "source": [
        "svm_fclass = SVC(kernel='rbf', random_state=1, C = 2.0)\n",
        "svm_fclass.fit(previsores_fclass_svm_treinamento, situacao_treinamento)\n",
        "previsoes_fclass_svm = svm_fclass.predict(previsores_fclass_svm_teste)\n",
        "previsoes_fclass_svm"
      ],
      "execution_count": null,
      "outputs": []
    },
    {
      "cell_type": "code",
      "metadata": {
        "id": "KnWd5rXBU6Ae"
      },
      "source": [
        "accuracy_score(situacao_teste, previsoes_fclass_svm)"
      ],
      "execution_count": null,
      "outputs": []
    },
    {
      "cell_type": "code",
      "metadata": {
        "id": "GcY0b_KSVyNR"
      },
      "source": [
        "print(classification_report(situacao_teste, previsoes_fclass_svm))"
      ],
      "execution_count": null,
      "outputs": []
    },
    {
      "cell_type": "code",
      "metadata": {
        "id": "9TDhKh8KSNvC"
      },
      "source": [
        "confusion_matrix(situacao_teste, previsoes_fclass_svm)"
      ],
      "execution_count": null,
      "outputs": []
    },
    {
      "cell_type": "markdown",
      "metadata": {
        "id": "bNPVXt2sXPFr"
      },
      "source": [
        "Usando o mutual_info_class"
      ]
    },
    {
      "cell_type": "code",
      "metadata": {
        "id": "0CDe4VirXXjA"
      },
      "source": [
        "from sklearn.feature_selection import  mutual_info_classif\n",
        "mutual_info_classif_svm = SelectKBest(score_func=mutual_info_classif, k=10)\n",
        "fit = mutual_info_classif_svm.fit(previsores,situacao)\n",
        "previsores_mutual_info_class_svm = fit.transform(previsores)"
      ],
      "execution_count": null,
      "outputs": []
    },
    {
      "cell_type": "code",
      "metadata": {
        "id": "cHn7bksaXc3s"
      },
      "source": [
        "previsores_mutualinfoclass_svm_treinamento, previsores_mutualinfoclass_svm_teste, situacao_treinamento, situacao_teste = train_test_split(previsores_mutual_info_class_svm, situacao, test_size = 0.15, random_state = 0)"
      ],
      "execution_count": null,
      "outputs": []
    },
    {
      "cell_type": "code",
      "metadata": {
        "id": "Rkj7LXBYXmrM"
      },
      "source": [
        "svm_mutualinfoclass = SVC(kernel='rbf', random_state=1, C = 2.0)\n",
        "svm_mutualinfoclass.fit(previsores_mutualinfoclass_svm_treinamento, situacao_treinamento)\n",
        "previsoes_mutualinfoclass_svm = svm_mutualinfoclass.predict(previsores_mutualinfoclass_svm_teste)\n",
        "previsoes_mutualinfoclass_svm"
      ],
      "execution_count": null,
      "outputs": []
    },
    {
      "cell_type": "code",
      "metadata": {
        "id": "EU97UlGRXtNB"
      },
      "source": [
        "accuracy_score(situacao_teste, previsoes_mutualinfoclass_svm)"
      ],
      "execution_count": null,
      "outputs": []
    },
    {
      "cell_type": "code",
      "metadata": {
        "id": "NltfcFIBSWDU"
      },
      "source": [
        "confusion_matrix(situacao_teste, previsoes_mutualinfoclass_svm)"
      ],
      "execution_count": null,
      "outputs": []
    },
    {
      "cell_type": "markdown",
      "metadata": {
        "id": "N8J7gqO4Y3_4"
      },
      "source": [
        "Usando o chi2"
      ]
    },
    {
      "cell_type": "code",
      "metadata": {
        "id": "YOvPN0l7Y-tj"
      },
      "source": [
        "from sklearn.preprocessing import MinMaxScaler\n",
        "minmax = MinMaxScaler()\n",
        "previsores_minmax = minmax.fit_transform(previsores)"
      ],
      "execution_count": null,
      "outputs": []
    },
    {
      "cell_type": "code",
      "metadata": {
        "id": "EbbrZXYYbscS"
      },
      "source": [
        "from sklearn.feature_selection import  chi2\n",
        "chi2_svm = SelectKBest(score_func=chi2, k=10)\n",
        "fit = chi2_svm.fit(previsores_minmax,situacao)\n",
        "previsores_chi2_svm = fit.transform(previsores_minmax)"
      ],
      "execution_count": null,
      "outputs": []
    },
    {
      "cell_type": "code",
      "metadata": {
        "id": "8sLsasTDbv6h"
      },
      "source": [
        "previsores_chi2_svm_treinamento, previsores_chi2_svm_teste, situacao_treinamento, situacao_teste = train_test_split(previsores_chi2_svm, situacao, test_size = 0.15, random_state = 0)"
      ],
      "execution_count": null,
      "outputs": []
    },
    {
      "cell_type": "code",
      "metadata": {
        "id": "aOko-JfgcCV6"
      },
      "source": [
        "svm_chi2 = RandomForestClassifier(n_estimators=40, criterion='entropy', random_state = 0)\n",
        "svm_chi2.fit(previsores_chi2_svm_treinamento, situacao_treinamento)\n",
        "previsoes_chi2_svm = svm_chi2.predict(previsores_chi2_svm_teste)\n",
        "previsoes_chi2_svm"
      ],
      "execution_count": null,
      "outputs": []
    },
    {
      "cell_type": "code",
      "metadata": {
        "id": "oQFb0JyhcFsf"
      },
      "source": [
        "accuracy_score(situacao_teste, previsoes_chi2_svm)"
      ],
      "execution_count": null,
      "outputs": []
    },
    {
      "cell_type": "code",
      "metadata": {
        "id": "MX7liV2USfo7"
      },
      "source": [
        "confusion_matrix(situacao_teste, previsoes_chi2_svm)"
      ],
      "execution_count": null,
      "outputs": []
    },
    {
      "cell_type": "markdown",
      "metadata": {
        "id": "2yFo5TuRtYT5"
      },
      "source": [
        "# Análise de Dados"
      ]
    },
    {
      "cell_type": "markdown",
      "metadata": {
        "id": "hWo-ccawti0J"
      },
      "source": [
        "# Aprendizagem "
      ]
    },
    {
      "cell_type": "markdown",
      "metadata": {
        "id": "ANfpTuemtq7r"
      },
      "source": [
        "# Distribuição do Modelo"
      ]
    }
  ]
}