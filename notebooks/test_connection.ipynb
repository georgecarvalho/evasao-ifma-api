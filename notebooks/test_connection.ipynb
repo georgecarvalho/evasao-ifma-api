{
 "cells": [
  {
   "cell_type": "code",
   "execution_count": 15,
   "id": "bfbc7b08-e742-48f1-9a39-6b47dd34aa69",
   "metadata": {},
   "outputs": [
    {
     "data": {
      "text/plain": [
       "{'detail': [{'loc': ['body', 'anoingresso'],\n",
       "   'msg': 'field required',\n",
       "   'type': 'value_error.missing'},\n",
       "  {'loc': ['body', 'periodoingresso'],\n",
       "   'msg': 'field required',\n",
       "   'type': 'value_error.missing'},\n",
       "  {'loc': ['body', 'rendabruta'],\n",
       "   'msg': 'field required',\n",
       "   'type': 'value_error.missing'},\n",
       "  {'loc': ['body', 'ira'],\n",
       "   'msg': 'field required',\n",
       "   'type': 'value_error.missing'},\n",
       "  {'loc': ['body', 'idade'],\n",
       "   'msg': 'field required',\n",
       "   'type': 'value_error.missing'}]}"
      ]
     },
     "execution_count": 15,
     "metadata": {},
     "output_type": "execute_result"
    }
   ],
   "source": [
    "import requests\n",
    "\n",
    "to_predict_dict = {\"campus\":\"mtc\",\n",
    "                   \"curso\":\"bacharelado em sistemas de informacao\",\n",
    "                   \"anoingresso\":2017,\n",
    "                   \"periodoingresso\":1,\n",
    "                   \"rendabruta\":2000,\n",
    "                   \"ira\":8.25,\n",
    "                   \"modalidade\":\"bacharelado\",\n",
    "                   \"genero\":\"m\",\n",
    "                   \"ficou_tempo_sem_estudar\":False,\n",
    "                   \"companhia_domiciliar\":\"parentes\",\n",
    "                   \"estado_civil\":\"solteiro(a)\",\n",
    "                   \"idade\":27,\n",
    "                   \"trabalha\":\"nunca trabalhou\"\n",
    "}\n",
    "\n",
    "url = 'http://127.0.0.1:8000/predict'\n",
    "r = requests.post(url,json=to_predict_dict); r.json()"
   ]
  },
  {
   "cell_type": "code",
   "execution_count": null,
   "id": "ea58da73-23f7-4d13-9c49-ef77dc7441f8",
   "metadata": {},
   "outputs": [],
   "source": []
  }
 ],
 "metadata": {
  "kernelspec": {
   "display_name": "Python 3",
   "language": "python",
   "name": "python3"
  },
  "language_info": {
   "codemirror_mode": {
    "name": "ipython",
    "version": 3
   },
   "file_extension": ".py",
   "mimetype": "text/x-python",
   "name": "python",
   "nbconvert_exporter": "python",
   "pygments_lexer": "ipython3",
   "version": "3.8.10"
  }
 },
 "nbformat": 4,
 "nbformat_minor": 5
}
